{
 "cells": [
  {
   "cell_type": "markdown",
   "metadata": {},
   "source": [
    "# Learning the shape of manifold from the code generated from celluation from that manifold"
   ]
  },
  {
   "cell_type": "markdown",
   "metadata": {},
   "source": [
    "## Data generation"
   ]
  },
  {
   "cell_type": "markdown",
   "metadata": {},
   "source": [
    "### 1. How to generate the stabilizer generators of a code and store them"
   ]
  },
  {
   "cell_type": "code",
   "execution_count": 1,
   "metadata": {},
   "outputs": [],
   "source": [
    "from panqec.codes.surface_2d import Toric2DCode"
   ]
  },
  {
   "cell_type": "code",
   "execution_count": 2,
   "metadata": {},
   "outputs": [],
   "source": [
    "from panqec.codes.surface_2d import Planar2DCode"
   ]
  },
  {
   "cell_type": "code",
   "execution_count": null,
   "metadata": {},
   "outputs": [],
   "source": [
    "from panqec.codes.color_2d import "
   ]
  },
  {
   "cell_type": "code",
   "execution_count": 11,
   "metadata": {},
   "outputs": [],
   "source": [
    "code = Toric2DCode(2) # takes in size as an argument"
   ]
  },
  {
   "cell_type": "code",
   "execution_count": 12,
   "metadata": {},
   "outputs": [],
   "source": [
    "big_code = Toric2DCode(10)"
   ]
  },
  {
   "cell_type": "code",
   "execution_count": 70,
   "metadata": {},
   "outputs": [],
   "source": [
    "surf_code = Planar2DCode(3)"
   ]
  },
  {
   "cell_type": "code",
   "execution_count": 71,
   "metadata": {},
   "outputs": [
    {
     "data": {
      "text/plain": [
       "array([[1, 1, 0, 0, 0, 0, 0, 0, 0, 1, 0, 0, 0],\n",
       "       [0, 1, 1, 0, 0, 0, 0, 0, 0, 0, 1, 0, 0],\n",
       "       [0, 0, 0, 1, 1, 0, 0, 0, 0, 1, 0, 1, 0],\n",
       "       [0, 0, 0, 0, 1, 1, 0, 0, 0, 0, 1, 0, 1],\n",
       "       [0, 0, 0, 0, 0, 0, 1, 1, 0, 0, 0, 1, 0],\n",
       "       [0, 0, 0, 0, 0, 0, 0, 1, 1, 0, 0, 0, 1]], dtype=uint8)"
      ]
     },
     "execution_count": 71,
     "metadata": {},
     "output_type": "execute_result"
    }
   ],
   "source": [
    "surf_code.Hx.toarray()"
   ]
  },
  {
   "cell_type": "code",
   "execution_count": 72,
   "metadata": {},
   "outputs": [
    {
     "data": {
      "text/plain": [
       "array([[1, 0, 0, 1, 0, 0, 0, 0, 0, 1, 0, 0, 0],\n",
       "       [0, 1, 0, 0, 1, 0, 0, 0, 0, 1, 1, 0, 0],\n",
       "       [0, 0, 1, 0, 0, 1, 0, 0, 0, 0, 1, 0, 0],\n",
       "       [0, 0, 0, 1, 0, 0, 1, 0, 0, 0, 0, 1, 0],\n",
       "       [0, 0, 0, 0, 1, 0, 0, 1, 0, 0, 0, 1, 1],\n",
       "       [0, 0, 0, 0, 0, 1, 0, 0, 1, 0, 0, 0, 1]], dtype=uint8)"
      ]
     },
     "execution_count": 72,
     "metadata": {},
     "output_type": "execute_result"
    }
   ],
   "source": [
    "surf_code.Hz.toarray()"
   ]
  },
  {
   "cell_type": "code",
   "execution_count": 13,
   "metadata": {},
   "outputs": [
    {
     "data": {
      "text/plain": [
       "matrix([[1, 1, 0, 0, 1, 0, 1, 0],\n",
       "        [1, 1, 0, 0, 0, 1, 0, 1],\n",
       "        [0, 0, 1, 1, 1, 0, 1, 0],\n",
       "        [0, 0, 1, 1, 0, 1, 0, 1]], dtype=uint8)"
      ]
     },
     "execution_count": 13,
     "metadata": {},
     "output_type": "execute_result"
    }
   ],
   "source": [
    "code.Hx.todense() # this is the x parity check matrix"
   ]
  },
  {
   "cell_type": "code",
   "execution_count": 14,
   "metadata": {},
   "outputs": [
    {
     "data": {
      "text/plain": [
       "matrix([[1, 0, 1, 0, 1, 1, 0, 0],\n",
       "        [0, 1, 0, 1, 1, 1, 0, 0],\n",
       "        [1, 0, 1, 0, 0, 0, 1, 1],\n",
       "        [0, 1, 0, 1, 0, 0, 1, 1]], dtype=uint8)"
      ]
     },
     "execution_count": 14,
     "metadata": {},
     "output_type": "execute_result"
    }
   ],
   "source": [
    "code.Hz.todense() # this is the z parity check matrix "
   ]
  },
  {
   "cell_type": "code",
   "execution_count": 15,
   "metadata": {},
   "outputs": [
    {
     "data": {
      "text/plain": [
       "8"
      ]
     },
     "execution_count": 15,
     "metadata": {},
     "output_type": "execute_result"
    }
   ],
   "source": [
    "code.n # this is the number of qubits, i.e. the number of columns of Hx and Hz"
   ]
  },
  {
   "cell_type": "code",
   "execution_count": 16,
   "metadata": {},
   "outputs": [
    {
     "data": {
      "text/plain": [
       "8"
      ]
     },
     "execution_count": 16,
     "metadata": {},
     "output_type": "execute_result"
    }
   ],
   "source": [
    "code.n_stabilizers # this is the number of stabilizers, i.e. the number of rows of Hx and Hz"
   ]
  },
  {
   "cell_type": "code",
   "execution_count": 17,
   "metadata": {},
   "outputs": [
    {
     "data": {
      "text/plain": [
       "2"
      ]
     },
     "execution_count": 17,
     "metadata": {},
     "output_type": "execute_result"
    }
   ],
   "source": [
    "code.k # this is the number of logical qubits encoded, in this case 2, because the torus has two non-trivial homotopic classes"
   ]
  },
  {
   "cell_type": "code",
   "execution_count": 18,
   "metadata": {},
   "outputs": [
    {
     "data": {
      "text/plain": [
       "2"
      ]
     },
     "execution_count": 18,
     "metadata": {},
     "output_type": "execute_result"
    }
   ],
   "source": [
    "code.d # this is the distance, not really relevant here, but just for completeness"
   ]
  },
  {
   "cell_type": "markdown",
   "metadata": {},
   "source": [
    "So, essentially, we want to use the following two quantities, which coincides with the boundary maps $\\partial_1$ and $\\partial_2$"
   ]
  },
  {
   "cell_type": "markdown",
   "metadata": {},
   "source": [
    "$$ C_2 \\xrightarrow[]{\\partial_2} C_1 \\xrightarrow[]{\\partial_1}  C_0$$"
   ]
  },
  {
   "cell_type": "markdown",
   "metadata": {},
   "source": [
    "This is $\\partial_2$"
   ]
  },
  {
   "cell_type": "code",
   "execution_count": 19,
   "metadata": {},
   "outputs": [],
   "source": [
    "hx = code.Hx.toarray() "
   ]
  },
  {
   "cell_type": "markdown",
   "metadata": {},
   "source": [
    "and this is the transpose of $\\partial_1$"
   ]
  },
  {
   "cell_type": "code",
   "execution_count": 20,
   "metadata": {},
   "outputs": [],
   "source": [
    "hz = code.Hz.toarray() "
   ]
  },
  {
   "cell_type": "code",
   "execution_count": 21,
   "metadata": {},
   "outputs": [
    {
     "data": {
      "text/plain": [
       "array([[1, 1, 0, 0, 1, 0, 1, 0],\n",
       "       [1, 1, 0, 0, 0, 1, 0, 1],\n",
       "       [0, 0, 1, 1, 1, 0, 1, 0],\n",
       "       [0, 0, 1, 1, 0, 1, 0, 1]], dtype=uint8)"
      ]
     },
     "execution_count": 21,
     "metadata": {},
     "output_type": "execute_result"
    }
   ],
   "source": [
    "hx"
   ]
  },
  {
   "cell_type": "code",
   "execution_count": 22,
   "metadata": {},
   "outputs": [
    {
     "data": {
      "text/plain": [
       "array([[1, 0, 1, 0],\n",
       "       [0, 1, 0, 1],\n",
       "       [1, 0, 1, 0],\n",
       "       [0, 1, 0, 1],\n",
       "       [1, 1, 0, 0],\n",
       "       [1, 1, 0, 0],\n",
       "       [0, 0, 1, 1],\n",
       "       [0, 0, 1, 1]], dtype=uint8)"
      ]
     },
     "execution_count": 22,
     "metadata": {},
     "output_type": "execute_result"
    }
   ],
   "source": [
    "hz.T"
   ]
  },
  {
   "cell_type": "markdown",
   "metadata": {},
   "source": [
    "they are both written in a particular basis for the chain complex, and from basic linear algebra, this basis has dimension 8, which is exactly the number of qubits, and the boundary maps induce a subspace, that we would call the \"codespace\", on which we perform error correction"
   ]
  },
  {
   "cell_type": "markdown",
   "metadata": {},
   "source": [
    "So, I guess this is a good starting point for generating the boundary maps. We can always choose different bases to generate different boundary maps that would give us the same \"codespace\". The topology of the \"codespace\" should be independent of the choice of basis, which is a good sanity check for our procedure, or could be used for just generating more data."
   ]
  },
  {
   "cell_type": "markdown",
   "metadata": {},
   "source": [
    "### 2. How to get from the Hx and Hz matrices to a persistent diagram? "
   ]
  },
  {
   "cell_type": "markdown",
   "metadata": {},
   "source": [
    "My current take is to interpret the matrices as hypergraphs, with a built-in simplicial complex structure, on which we will be able to perform a hypergraph Laplacian. The hypergraph Laplacian will be a unambiguous way to build a filtration to get our TDA going."
   ]
  },
  {
   "cell_type": "markdown",
   "metadata": {},
   "source": [
    "### 3. Using topological sort to generate a simplicial stream from a chain complex"
   ]
  },
  {
   "cell_type": "markdown",
   "metadata": {},
   "source": [
    "### 4. Doing TDA on a simplicial stream "
   ]
  },
  {
   "cell_type": "code",
   "execution_count": 23,
   "metadata": {},
   "outputs": [],
   "source": [
    "import gudhi as gd"
   ]
  },
  {
   "cell_type": "code",
   "execution_count": 24,
   "metadata": {},
   "outputs": [],
   "source": [
    "# Create a Simplex Tree\n",
    "st = gd.SimplexTree()"
   ]
  },
  {
   "cell_type": "code",
   "execution_count": 25,
   "metadata": {},
   "outputs": [
    {
     "data": {
      "text/plain": [
       "True"
      ]
     },
     "execution_count": 25,
     "metadata": {},
     "output_type": "execute_result"
    }
   ],
   "source": [
    "# Assume simplicial_stream is your input simplicial stream.\n",
    "# Here, you should add simplices to the simplex tree.\n",
    "# For example, adding some simplices manually:\n",
    "st.insert([0])\n",
    "st.insert([1])\n",
    "st.insert([0, 1])\n",
    "st.insert([2])\n",
    "st.insert([1, 2])\n",
    "st.insert([0, 2])\n",
    "st.insert([0, 1, 2])"
   ]
  },
  {
   "cell_type": "code",
   "execution_count": 26,
   "metadata": {},
   "outputs": [
    {
     "data": {
      "text/plain": [
       "2"
      ]
     },
     "execution_count": 26,
     "metadata": {},
     "output_type": "execute_result"
    }
   ],
   "source": [
    "st.dimension()"
   ]
  },
  {
   "cell_type": "code",
   "execution_count": 27,
   "metadata": {},
   "outputs": [
    {
     "data": {
      "text/plain": [
       "7"
      ]
     },
     "execution_count": 27,
     "metadata": {},
     "output_type": "execute_result"
    }
   ],
   "source": [
    "st.num_simplices()"
   ]
  },
  {
   "cell_type": "code",
   "execution_count": 28,
   "metadata": {},
   "outputs": [
    {
     "data": {
      "text/plain": [
       "3"
      ]
     },
     "execution_count": 28,
     "metadata": {},
     "output_type": "execute_result"
    }
   ],
   "source": [
    "st.num_vertices()"
   ]
  },
  {
   "cell_type": "code",
   "execution_count": 29,
   "metadata": {},
   "outputs": [
    {
     "data": {
      "text/plain": [
       "<Axes: title={'center': 'Persistence diagram'}, xlabel='Birth', ylabel='Death'>"
      ]
     },
     "execution_count": 29,
     "metadata": {},
     "output_type": "execute_result"
    },
    {
     "data": {
      "image/png": "[encoded data removed]",
      "text/plain": [
       "<Figure size 640x480 with 1 Axes>"
      ]
     },
     "metadata": {},
     "output_type": "display_data"
    }
   ],
   "source": [
    "# Insert your simplicial stream here\n",
    "# for simplex in simplicial_stream:\n",
    "#     st.insert(simplex)\n",
    "\n",
    "# Compute persistence\n",
    "diag = st.persistence()\n",
    "\n",
    "# Plotting the persistence diagram\n",
    "gd.plot_persistence_diagram(diag)"
   ]
  },
  {
   "cell_type": "code",
   "execution_count": 30,
   "metadata": {},
   "outputs": [
    {
     "data": {
      "text/plain": [
       "[1, 0]"
      ]
     },
     "execution_count": 30,
     "metadata": {},
     "output_type": "execute_result"
    }
   ],
   "source": [
    "st.betti_numbers()"
   ]
  },
  {
   "cell_type": "code",
   "execution_count": 31,
   "metadata": {},
   "outputs": [],
   "source": [
    "def build_simplex_tree_from_boundary_matrices(boundary_matrices):\n",
    "    st = gd.SimplexTree()\n",
    "\n",
    "    # Add vertices\n",
    "    for vertex in range(len(boundary_matrices[0][0])):\n",
    "        st.insert([vertex])\n",
    "\n",
    "    # Add higher dimensional simplices\n",
    "    for dim, boundary_matrix in enumerate(boundary_matrices):\n",
    "        for simplex_index, row in enumerate(boundary_matrix):\n",
    "            # Create a simplex as a list of its vertices\n",
    "            simplex = [vertex for vertex, entry in enumerate(row) if entry != 0]\n",
    "            simplex.append(simplex_index + len(row))  # Add the current simplex vertex\n",
    "            st.insert(simplex, filtration=dim)\n",
    "    print(simplex)\n",
    "    return st"
   ]
  },
  {
   "cell_type": "code",
   "execution_count": 32,
   "metadata": {},
   "outputs": [
    {
     "name": "stdout",
     "output_type": "stream",
     "text": [
      "[2, 3, 11]\n",
      "[(2, (1.0, inf)), (2, (1.0, inf)), (1, (0.0, inf)), (0, (0.0, inf))]\n"
     ]
    },
    {
     "data": {
      "text/plain": [
       "<Axes: title={'center': 'Persistence diagram'}, xlabel='Birth', ylabel='Death'>"
      ]
     },
     "execution_count": 32,
     "metadata": {},
     "output_type": "execute_result"
    },
    {
     "data": {
      "image/png": "[encoded data removed]",
      "text/plain": [
       "<Figure size 640x480 with 1 Axes>"
      ]
     },
     "metadata": {},
     "output_type": "display_data"
    }
   ],
   "source": [
    "# Example boundary matrices\n",
    "boundary_matrices = [\n",
    "    # Boundary matrix for 1-simplices (edges)\n",
    "    hx,\n",
    "    # Boundary matrix for 2-simplices (triangles)\n",
    "    hz.T\n",
    "    # Add more matrices for higher dimensions if needed\n",
    "]\n",
    "\n",
    "# Build the simplex tree\n",
    "simplex_tree = build_simplex_tree_from_boundary_matrices(boundary_matrices)\n",
    "\n",
    "# Compute and print persistence\n",
    "diag = simplex_tree.persistence()\n",
    "print(diag)\n",
    "\n",
    "# Optionally, plot the persistence diagram\n",
    "gd.plot_persistence_diagram(diag)"
   ]
  },
  {
   "cell_type": "code",
   "execution_count": 33,
   "metadata": {},
   "outputs": [],
   "source": [
    "simplex_gen = simplex_tree.get_simplices()"
   ]
  },
  {
   "cell_type": "code",
   "execution_count": 34,
   "metadata": {},
   "outputs": [
    {
     "data": {
      "text/plain": [
       "([0, 1, 4, 6, 8], 0.0)"
      ]
     },
     "execution_count": 34,
     "metadata": {},
     "output_type": "execute_result"
    }
   ],
   "source": [
    "next(simplex_gen)"
   ]
  },
  {
   "cell_type": "code",
   "execution_count": 35,
   "metadata": {},
   "outputs": [
    {
     "data": {
      "text/plain": [
       "([0, 1, 4, 6], 0.0)"
      ]
     },
     "execution_count": 35,
     "metadata": {},
     "output_type": "execute_result"
    }
   ],
   "source": [
    "next(simplex_gen)"
   ]
  },
  {
   "cell_type": "code",
   "execution_count": 36,
   "metadata": {},
   "outputs": [
    {
     "data": {
      "text/plain": [
       "([0, 1, 4, 8], 0.0)"
      ]
     },
     "execution_count": 36,
     "metadata": {},
     "output_type": "execute_result"
    }
   ],
   "source": [
    "next(simplex_gen)"
   ]
  },
  {
   "cell_type": "code",
   "execution_count": 37,
   "metadata": {},
   "outputs": [
    {
     "data": {
      "text/plain": [
       "[1, 1, 2, 0]"
      ]
     },
     "execution_count": 37,
     "metadata": {},
     "output_type": "execute_result"
    }
   ],
   "source": [
    "simplex_tree.betti_numbers()"
   ]
  },
  {
   "cell_type": "code",
   "execution_count": 38,
   "metadata": {},
   "outputs": [
    {
     "ename": "TypeError",
     "evalue": "persistent_betti_numbers() takes exactly 2 positional arguments (0 given)",
     "output_type": "error",
     "traceback": [
      "\u001b[0;31m---------------------------------------------------------------------------\u001b[0m",
      "\u001b[0;31mTypeError\u001b[0m                                 Traceback (most recent call last)",
      "Cell \u001b[0;32mIn[38], line 1\u001b[0m\n\u001b[0;32m----> 1\u001b[0m \u001b[43msimplex_tree\u001b[49m\u001b[38;5;241;43m.\u001b[39;49m\u001b[43mpersistent_betti_numbers\u001b[49m\u001b[43m(\u001b[49m\u001b[43m)\u001b[49m\n",
      "File \u001b[0;32msimplex_tree.pyx:677\u001b[0m, in \u001b[0;36mgudhi.simplex_tree.SimplexTree.persistent_betti_numbers\u001b[0;34m()\u001b[0m\n",
      "\u001b[0;31mTypeError\u001b[0m: persistent_betti_numbers() takes exactly 2 positional arguments (0 given)"
     ]
    }
   ],
   "source": [
    "simplex_tree.persistent_betti_numbers()"
   ]
  },
  {
   "cell_type": "code",
   "execution_count": null,
   "metadata": {},
   "outputs": [
    {
     "data": {
      "text/plain": [
       "[1, 0, 1]"
      ]
     },
     "execution_count": 46,
     "metadata": {},
     "output_type": "execute_result"
    }
   ],
   "source": [
    "boundary_matrices[0][2]"
   ]
  },
  {
   "cell_type": "code",
   "execution_count": null,
   "metadata": {},
   "outputs": [
    {
     "name": "stdout",
     "output_type": "stream",
     "text": [
      "[0, 2, 4]\n",
      "[(1, (0.0, inf)), (0, (0.0, inf))]\n"
     ]
    },
    {
     "data": {
      "text/plain": [
       "<Axes: title={'center': 'Persistence diagram'}, xlabel='Birth', ylabel='Death'>"
      ]
     },
     "execution_count": 43,
     "metadata": {},
     "output_type": "execute_result"
    },
    {
     "data": {
      "image/png": "[encoded data removed]",
      "text/plain": [
       "<Figure size 640x480 with 1 Axes>"
      ]
     },
     "metadata": {},
     "output_type": "display_data"
    }
   ],
   "source": [
    "# Example boundary matrices\n",
    "boundary_matrices = [\n",
    "    # Boundary matrix for 1-simplices (edges)\n",
    "     [[1, 1, 0], [0, 1, 1], [1, 0, 1]],\n",
    "    # Boundary matrix for 2-simplices (triangles)\n",
    "    [[1, 1, 0], [1, 0, 1]]\n",
    "    # Add more matrices for higher dimensions if needed\n",
    "]\n",
    "\n",
    "# Build the simplex tree\n",
    "simplex_tree = build_simplex_tree_from_boundary_matrices(boundary_matrices)\n",
    "\n",
    "# Compute and print persistence\n",
    "diag = simplex_tree.persistence()\n",
    "print(diag)\n",
    "\n",
    "# Optionally, plot the persistence diagram\n",
    "gd.plot_persistence_diagram(diag)"
   ]
  },
  {
   "cell_type": "code",
   "execution_count": null,
   "metadata": {},
   "outputs": [
    {
     "data": {
      "text/plain": [
       "[1, 1]"
      ]
     },
     "execution_count": 12,
     "metadata": {},
     "output_type": "execute_result"
    }
   ],
   "source": [
    "simplex_tree.betti_numbers()"
   ]
  },
  {
   "cell_type": "code",
   "execution_count": null,
   "metadata": {},
   "outputs": [],
   "source": [
    "import numpy as np\n",
    "from ldpc import mod2\n",
    "from ldpc.alist import save_alist\n",
    "#from ldpc.code_util import compute_code_distance\n",
    "#from bposd import stab"
   ]
  },
  {
   "cell_type": "code",
   "execution_count": null,
   "metadata": {},
   "outputs": [
    {
     "name": "stdout",
     "output_type": "stream",
     "text": [
      "Value 1\n",
      "Method 1 called with attributes: Value 1 and Value 2\n",
      "New Value\n"
     ]
    }
   ],
   "source": [
    "# Define a class\n",
    "class DataGen:\n",
    "    # Constructor (initialize the object)\n",
    "    def __init__(self, attribute1, attribute2):\n",
    "        self.attribute1 = attribute1\n",
    "        self.attribute2 = attribute2\n",
    "\n",
    "    # Define methods (functions) for the class\n",
    "    def method1(self):\n",
    "        return f\"Method 1 called with attributes: {self.attribute1} and {self.attribute2}\"\n",
    "\n",
    "    def method2(self, new_value):\n",
    "        self.attribute1 = new_value\n",
    "\n",
    "# Create an instance of the class\n",
    "obj = MyClass(\"Value 1\", \"Value 2\")\n",
    "\n",
    "# Access attributes and call methods\n",
    "print(obj.attribute1)  # Access an attribute\n",
    "print(obj.method1())   # Call a method\n",
    "\n",
    "# Modify attributes\n",
    "obj.method2(\"New Value\")\n",
    "print(obj.attribute1)  # Attribute updated\n",
    "\n",
    "# Create another instance of the class\n",
    "obj2 = MyClass(\"Another Value\", \"Another Value 2\")"
   ]
  },
  {
   "cell_type": "code",
   "execution_count": null,
   "metadata": {},
   "outputs": [],
   "source": [
    "class css_code():\n",
    "\n",
    "    def __init__(self,hx=np.array([[]]),hz=np.array([[]]), name=\"<Unnamed CSS code>\"):\n",
    "\n",
    "        self.hx=hx #hx pcm\n",
    "        self.hz=hz #hz pcm\n",
    "\n",
    "        self.lx=np.array([[]]) #x logicals\n",
    "        self.lz=np.array([[]]) #z logicals\n",
    "\n",
    "        self.N=np.nan #block length\n",
    "        self.K=np.nan #code dimension\n",
    "        self.D=code_distance #code distance\n",
    "        self.L=np.nan #max column weight\n",
    "        self.Q=np.nan #max row weight\n",
    "\n",
    "        _,nx=self.hx.shape\n",
    "        _,nz=self.hz.shape\n",
    "        try:\n",
    "            assert nx==nz\n",
    "        except AssertionError:\n",
    "            raise Exception(\"Error: hx and hz matrices must have equal numbers of columns!\")\n",
    "\n",
    "        if nx!=0:\n",
    "            self.compute_dimension()\n",
    "            self.compute_ldpc_params()\n",
    "            self.compute_logicals()\n",
    "\n",
    "        self.name=name\n",
    "\n",
    "    def compute_dimension(self):\n",
    "\n",
    "        self.N=self.hx.shape[1]\n",
    "        assert self.N == self.hz.shape[1], \"Code block length (N) inconsistent!\"\n",
    "\n",
    "        self.K=self.N-mod2.rank(self.hx)-mod2.rank(self.hz)\n",
    "        return self.K\n",
    "\n",
    "    def compute_ldpc_params(self):\n",
    "\n",
    "        #column weights\n",
    "        hx_l=np.max(np.sum(self.hx,axis=0))\n",
    "        hz_l=np.max(np.sum(self.hz,axis=0))\n",
    "        self.L=np.max([hx_l,hz_l]).astype(int)\n",
    "\n",
    "        #row weights\n",
    "        hx_q=np.max(np.sum(self.hx,axis=1))\n",
    "        hz_q=np.max(np.sum(self.hz,axis=1))\n",
    "        self.Q=np.max([hx_q,hz_q]).astype(int)\n",
    "\n",
    "    def save_sparse(self, code_name):\n",
    "\n",
    "        self.code_name=code_name\n",
    "\n",
    "        hx=self.hx\n",
    "        hz=self.hz\n",
    "        save_alist(f\"{code_name}_hx.alist\",hx)\n",
    "        save_alist(f\"{code_name}_hz.alist\",hz)\n",
    "\n",
    "        lx=self.lx\n",
    "        lz=self.lz\n",
    "        save_alist(f\"{code_name}_lx.alist\",lx)\n",
    "        save_alist(f\"{code_name}_lz.alist\",lz)\n",
    "\n",
    "    def to_stab_code(self):\n",
    "\n",
    "        hx=np.vstack([np.zeros(self.hz.shape,dtype=int),self.hx])\n",
    "        hz=np.vstack([self.hz,np.zeros(self.hx.shape,dtype=int)])\n",
    "        return stab.stab_code(hx,hz)\n",
    "\n",
    "    @property\n",
    "    def h(self):\n",
    "        hx=np.vstack([np.zeros(self.hz.shape,dtype=int),self.hx])\n",
    "        hz=np.vstack([self.hz,np.zeros(self.hx.shape,dtype=int)])\n",
    "        return np.hstack([hx,hz])\n",
    "\n",
    "    @property\n",
    "    def l(self):\n",
    "        lx=np.vstack([np.zeros(self.lz.shape,dtype=int),self.lx])\n",
    "        lz=np.vstack([self.lz,np.zeros(self.lx.shape,dtype=int)])\n",
    "        return np.hstack([lx,lz])\n",
    "\n",
    "\n",
    "    def compute_logicals(self):\n",
    "\n",
    "        def compute_lz(hx,hz):\n",
    "            #lz logical operators\n",
    "            #lz\\in ker{hx} AND \\notin Im(Hz.T)\n",
    "\n",
    "            ker_hx=mod2.nullspace(hx) #compute the kernel basis of hx\n",
    "            im_hzT=mod2.row_basis(hz) #compute the image basis of hz.T\n",
    "\n",
    "            #in the below we row reduce to find vectors in kx that are not in the image of hz.T.\n",
    "            log_stack=np.vstack([im_hzT,ker_hx])\n",
    "            pivots=mod2.row_echelon(log_stack.T)[3]\n",
    "            log_op_indices=[i for i in range(im_hzT.shape[0],log_stack.shape[0]) if i in pivots]\n",
    "            log_ops=log_stack[log_op_indices]\n",
    "            return log_ops\n",
    "\n",
    "        if self.K==np.nan: self.compute_dimension()\n",
    "        self.lx=compute_lz(self.hz,self.hx)\n",
    "        self.lz=compute_lz(self.hx,self.hz)\n",
    "\n",
    "        return self.lx,self.lz\n",
    "\n",
    "    def canonical_logicals(self):\n",
    "        temp=mod2.inverse(self.lx@self.lz.T %2)\n",
    "        self.lx=temp@self.lx %2\n",
    "\n",
    "\n",
    "    @property\n",
    "    def code_params(self):\n",
    "        try: self.N\n",
    "        except AttributeError: self.N=np.nan\n",
    "        try: self.K\n",
    "        except AttributeError: self.K=np.nan\n",
    "        try: self.D\n",
    "        except AttributeError: self.D=np.nan\n",
    "        try: self.L\n",
    "        except AttributeError: self.L=np.nan\n",
    "        try: self.Q\n",
    "        except AttributeError: self.Q=np.nan\n",
    "\n",
    "        return f\"({self.L},{self.Q})-[[{self.N},{self.K},{self.D}]]\"\n",
    "\n",
    "    def test(self, show_tests=True):\n",
    "        valid_code=True\n",
    "\n",
    "        if self.K==np.nan: self.compute_dimension()\n",
    "        self.compute_ldpc_params()\n",
    "\n",
    "        code_label=f\"{self.code_params}\"\n",
    "\n",
    "        if show_tests: print(f\"{self.name}, {code_label}\")\n",
    "\n",
    "        try:\n",
    "            assert self.N==self.hz.shape[1]==self.lz.shape[1]==self.lx.shape[1]\n",
    "            assert self.K==self.lz.shape[0]==self.lx.shape[0]\n",
    "            if show_tests: print(\" -Block dimensions: Pass\")\n",
    "        except AssertionError:\n",
    "            valid_code=False\n",
    "            print(\" -Block dimensions incorrect\")\n",
    "\n",
    "        try:\n",
    "            assert not (self.hz@self.hx.T %2).any()\n",
    "            if show_tests: print(\" -PCMs commute hz@hx.T==0: Pass\")\n",
    "        except AssertionError:\n",
    "            valid_code=False\n",
    "            print(\" -PCMs commute hz@hx.T==0: Fail\")\n",
    "\n",
    "        try:\n",
    "            assert not (self.hx@self.hz.T %2).any()\n",
    "            if show_tests: print(\" -PCMs commute hx@hz.T==0: Pass\")\n",
    "        except AssertionError:\n",
    "            valid_code=False\n",
    "            print(\" -PCMs commute hx@hz.T==0: Fail\")\n",
    "\n",
    "        # if show_tests and valid_code: print(\"\\t-PCMs commute hx@hz.T == hz@hx.T ==0: Pass\")\n",
    "\n",
    "        try:\n",
    "            assert not (self.hz@self.lx.T %2).any()\n",
    "        except AssertionError:\n",
    "            valid_code=False\n",
    "            print(\" -lx \\in ker{hz} AND lz \\in ker{hx}: Fail\")\n",
    "\n",
    "\n",
    "        try:\n",
    "            assert not (self.hx@self.lz.T %2).any()\n",
    "            if show_tests: print(\" -lx \\in ker{hz} AND lz \\in ker{hx}: Pass\")\n",
    "        except AssertionError:\n",
    "            valid_code=False\n",
    "            print(\" -lx \\in ker{hz} AND lz \\in ker{hx}: Fail\")\n",
    "\n",
    "\n",
    "        # if show_tests and valid_code: print(\"\\t-lx \\in ker{hz} AND lz \\in ker{hx}: Pass\")\n",
    "\n",
    "        try:\n",
    "            assert mod2.rank(self.lx@self.lz.T %2)==self.K\n",
    "            if show_tests: print(\" -lx and lz anticommute: Pass\")\n",
    "        except AssertionError:\n",
    "            valid_code=False\n",
    "            print(\" -lx and lz anitcommute: Fail\")\n",
    "\n",
    "        # if show_tests and valid_code: print(\"\\t- lx and lz anitcommute: Pass\")\n",
    "\n",
    "        if show_tests and valid_code: print(f\" -{self.name} is a valid CSS code w/ params {code_label}\")\n",
    "\n",
    "        return valid_code\n",
    "\n"
   ]
  },
  {
   "cell_type": "code",
   "execution_count": null,
   "metadata": {},
   "outputs": [],
   "source": [
    "import numpy as np\n",
    "from ldpc import mod2\n",
    "from tqdm import tqdm\n",
    "\n",
    "def gf2_to_gf4(bin):\n",
    "    n=int(len(bin)/2)\n",
    "    gf4=np.zeros(n).astype(int)\n",
    "    for i in range(n):\n",
    "        if bin[i]==1 and bin[i+n]==0:\n",
    "            gf4[i]=1\n",
    "        elif bin[i]==0 and bin[i+n]==1:\n",
    "            gf4[i]=3\n",
    "        elif bin[i]==1 and bin[i+n]==1:\n",
    "            gf4[i]=2\n",
    "        else:\n",
    "            gf4[i]=0\n",
    "    return gf4\n",
    "\n",
    "\n",
    "class pauli_vector():\n",
    "\n",
    "    def __init__(self,input_vector):\n",
    "\n",
    "        if type(input_vector[0]) is str:\n",
    "            self.n = len(input_vector)\n",
    "            self.gf2 = np.zeros(2*self.n).astype(int)\n",
    "            for i,element in enumerate(input_vector):\n",
    "                if element == \"I\":\n",
    "                    self.gf2[i]=0\n",
    "                    self.gf2[i+self.n]=0\n",
    "                elif element == \"X\":\n",
    "                    self.gf2[i] = 1\n",
    "                    self.gf2[i+self.n] = 0\n",
    "                elif element == \"Y\":\n",
    "                    self.gf2[i] = 1\n",
    "                    self.gf2[i+self.n] = 1\n",
    "                elif element == \"Z\":\n",
    "                    self.gf2[i] = 0\n",
    "                    self.gf2[i+self.n] = 1\n",
    "\n",
    "        else:\n",
    "            self.gf2 = input_vector\n",
    "            try: assert len(self.gf2) % 2 == 0\n",
    "            except AssertionError: raise Exception(\"InputError: input string must have even length\")\n",
    "            self.n = len(self.gf2)//2\n",
    "\n",
    "    # for calculating the syndrome\n",
    "    def __rmul__(self,other):\n",
    "        try: assert type(other) is stab_code\n",
    "        except TypeError: raise Exception(\"Type Pauli vector must be multiplied by a `stab_code` object.\")\n",
    "        return ( (other.hx@self.gf2_z %2) + (other.hz@self.gf2_x %2) ) %2\n",
    "\n",
    "    @property\n",
    "    def pauli_string(self):\n",
    "        gf4_error =  gf2_to_gf4(self.gf2)\n",
    "        out_string = \"\"\n",
    "        for element in gf4_error:\n",
    "            if element == 0:\n",
    "                out_string += \"I\"\n",
    "            elif element == 1:\n",
    "                out_string += \"X\"\n",
    "            elif element == 2:\n",
    "                out_string += \"Y\"\n",
    "            elif element == 3:\n",
    "                out_string += \"Z\"\n",
    "\n",
    "        return out_string\n",
    "\n",
    "    @property\n",
    "    def gf2_x(self):\n",
    "        return self.gf2[:self.n]\n",
    "    \n",
    "    @property\n",
    "    def gf2_z(self):\n",
    "        return self.gf2[self.n:]\n",
    "\n",
    "class stab_code():\n",
    "\n",
    "    def __init__(self,hx=None,hz=None):\n",
    "  \n",
    "        if hz is None or hz is None:\n",
    "            self.hx=np.array([[]])\n",
    "            self.hz = np.array([[]])\n",
    "            self.N=np.nan\n",
    "            self.K=np.nan\n",
    "            self.lx=np.array([[]])\n",
    "            self.lz=np.array([[]])\n",
    "            self.D=np.nan\n",
    "\n",
    "        else:\n",
    "            self.hx=hx\n",
    "            self.hz=hz\n",
    "            self.init_code()\n",
    "\n",
    "        self.h=np.hstack([self.hx,self.hz])\n",
    "        self.l=np.hstack([self.lx,self.lz])\n",
    "\n",
    "    def init_code(self):\n",
    "\n",
    "        self.h=np.hstack([self.hx,self.hz])\n",
    "        self.N=self.hx.shape[1]\n",
    "        self.K=self.N-mod2.rank(self.h)\n",
    "        self.compute_logical_operators()\n",
    "        self.D=np.nan\n",
    "\n",
    "    def compute_logical_operators(self):\n",
    "        #compute logical operators\n",
    "        #Kernel H\n",
    "\n",
    "        ker_H=mod2.nullspace(np.hstack([self.hz,self.hx]))\n",
    "        image_HT=mod2.row_basis(np.hstack([self.hx,self.hz]))\n",
    "\n",
    "        log_stack=np.vstack([image_HT,ker_H])\n",
    "        pivots=mod2.row_echelon(log_stack.T)[3]\n",
    "        log_op_indices=[i for i in range(image_HT.shape[0],log_stack.shape[0]) if i in pivots]\n",
    "        self.l=log_stack[log_op_indices]\n",
    "        self.lx =self.l[:,0:self.N]\n",
    "        self.lz=self.l[:,self.N:2*self.N]\n",
    "\n",
    "        self.K=int(self.l.shape[0]/2)\n",
    "\n",
    "    def compute_code_distance(self,return_logicals=False):\n",
    "\n",
    "        if self.N>10:\n",
    "            print(\"Warning: computing a code distance of codes with N>10 will take a long time.\")\n",
    "\n",
    "        re,r,_,_=mod2.row_echelon(self.h)\n",
    "        stab_basis=re[0:r]\n",
    "        logical_stack=np.vstack([stab_basis,self.l])\n",
    "        all_logicals=mod2.row_span(logical_stack)\n",
    "        # np.argmin(np.sum(all_logicals,axis=1))\n",
    "        \n",
    "        d_min=self.N\n",
    "        min_indices=[]\n",
    "        min_logicals=[]\n",
    "        for i in tqdm(range(len(all_logicals))):\n",
    "            logical=all_logicals[i]\n",
    "            logical=gf2_to_gf4(logical)\n",
    "            temp=np.count_nonzero(logical)\n",
    "            if temp<d_min:\n",
    "                d_min=temp\n",
    "                min_indices=[i]\n",
    "                min_logicals=[logical]\n",
    "            elif temp==d_min:\n",
    "                min_indices.append(i)\n",
    "                min_logicals.append(logical)\n",
    "        \n",
    "        # d_min=np.min( np.sum(all_logicals,axis=1) )\n",
    "        self.D=d_min\n",
    "\n",
    "        # print(all_logicals)\n",
    "\n",
    "        if return_logicals:\n",
    "            return np.array(min_logicals)\n",
    "\n",
    "        return d_min\n",
    "\n",
    "    def test(self):\n",
    "        #check the logical operators are in the kernel of the pcm        \n",
    "        assert ((self.hx@self.lz.T %2 + self.hz@self.lx.T %2)%2).any()==0\n",
    "        assert mod2.rank((self.lx@self.lz.T%2 + self.lz@self.lx.T%2) %2)==self.l.shape[0]\n",
    "\n",
    "        self.compute_logical_operators()\n",
    "\n",
    "        #check commutativity relation (non CSS code)\n",
    "        assert (( (self.hz@self.hx.T %2) + (self.hx@self.hz.T %2) ) %2 ).any() == 0\n",
    "    \n",
    "        # #check the logical operators valid\n",
    "        assert ((self.hx@self.lz.T %2 + self.hz@self.lx.T %2)%2).any()==0\n",
    "        assert mod2.rank((self.lx@self.lz.T%2 + self.lz@self.lx.T%2) %2)==self.l.shape[0]\n",
    "\n",
    "    def generate_y_edges(self):\n",
    "        m,n = self.hx.shape\n",
    "        y_edges = np.zeros((m,n)).astype(int)\n",
    "        for i in range(m):\n",
    "            for j in range(n):\n",
    "                if (self.hx[i,j] ==1) and (self.hz[i,j] == 1):\n",
    "                    y_edges[i,j] = 1\n",
    "                else:\n",
    "                    y_edges[i,j] = 0\n",
    "\n",
    "        return y_edges\n",
    "    \n",
    "    def generate_x_edges(self):\n",
    "        m,n = self.hx.shape\n",
    "        x_edges = np.zeros((m,n)).astype(int)\n",
    "        for i in range(m):\n",
    "            for j in range(n):\n",
    "                if (self.hx[i,j] ==1) and (self.hz[i,j] == 0):\n",
    "                    x_edges[i,j] = 1\n",
    "                else:\n",
    "                    x_edges[i,j] = 0\n",
    "\n",
    "        return x_edges\n",
    "    \n",
    "    def generate_z_edges(self):\n",
    "        m,n = self.hx.shape\n",
    "        z_edges = np.zeros((m,n)).astype(int)\n",
    "        for i in range(m):\n",
    "            for j in range(n):\n",
    "                if (self.hx[i,j] ==0) and (self.hz[i,j] == 1):\n",
    "                    z_edges[i,j] = 1\n",
    "                else:\n",
    "                    z_edges[i,j] = 0\n",
    "\n",
    "        return z_edges\n",
    "    \n",
    "\n",
    "    @property\n",
    "    def gf4_stabs(self):\n",
    "        out = []\n",
    "        for element in self.h:\n",
    "            out.append(gf2_to_gf4(element))\n",
    "        return np.vstack(out)"
   ]
  },
  {
   "cell_type": "code",
   "execution_count": 13,
   "metadata": {},
   "outputs": [
    {
     "name": "stdout",
     "output_type": "stream",
     "text": [
      "([[0, 4], [4, 3], [3, 2], [2, 1]], 0)\n"
     ]
    }
   ],
   "source": [
    "\n",
    "import random\n",
    "from copy import deepcopy\n",
    "from collections import defaultdict\n",
    "\n",
    "import numpy as np\n",
    "import gudhi\n",
    "\n",
    "# Hx, m x n: maps from faces to edges\n",
    "# Hz, m x n: maps from vertices to edges\n",
    "\n",
    "def is_zero(vector):\n",
    "    return np.all(vector == 0)\n",
    "\n",
    "class SampleQueue:\n",
    "\n",
    "    def __init__(self, Hx, Hz_t):\n",
    "\n",
    "        # Hx: m x n, Hz_t: n x m\n",
    "        self.m, self.n = Hx.shape[0], Hz_t.shape[0]\n",
    "\n",
    "        for c in range(self.n):\n",
    "            if is_zero(Hx[:, c]):\n",
    "                print(\"modify\")\n",
    "                # e_c c-th basis vector in R^n\n",
    "                ec = np.eye(self.n)[c]\n",
    "                Hx = np.vstack(Hx, ec)\n",
    "        \n",
    "        self.Hz_t = Hz_t\n",
    "        self.Hx = Hx\n",
    "        self.unsampled_2_simplices = list(range(0, self.m))\n",
    "\n",
    "    def is_empty(self):\n",
    "        return len(self.unsampled_2_simplices) == 0\n",
    "\n",
    "    def sample(self):\n",
    "\n",
    "        # Uniformly sample a random 2-simplex that hasn't already been sampled\n",
    "        r_sigma = random.choice(self.unsampled_2_simplices)\n",
    "        sigma = self.Hx[r_sigma]\n",
    "\n",
    "        # All dependencies of sigma has already been sampled, so we can return it directly\n",
    "        if is_zero(sigma):\n",
    "            self.unsampled_2_simplices.remove(r_sigma)\n",
    "            return (2, r_sigma)\n",
    "        \n",
    "        # Uniformly sample a random 1-simplex face of sigma\n",
    "        tau_indices = list(np.where(sigma == 1)[0])\n",
    "        r_tau = np.random.choice(tau_indices)\n",
    "        tau = self.Hz_t[r_tau]\n",
    "\n",
    "        # All dependencies of tau have already been sampled, so we can return it directly\n",
    "        if is_zero(tau):\n",
    "            # Set column in Hx corresponding to tau to 0\n",
    "            self.Hx[:, r_tau] = 0\n",
    "            return (1, r_tau)\n",
    "        \n",
    "        # Finally, return 1 unsampled 0-simplex of tau if needed\n",
    "        x_indices = list(np.where(tau == 1)[0])\n",
    "        r_x = np.random.choice(x_indices)\n",
    "\n",
    "        # Set column in Hz_t corresponding to x to 0\n",
    "        self.Hz_t[:, r_x] = 0\n",
    "        return (0, r_x)\n",
    "\n",
    "def sample_filtration(Hx, Hz):\n",
    "    filtration = []\n",
    "    SQ = SampleQueue(deepcopy(Hx), deepcopy(Hz.T))\n",
    "    while not SQ.is_empty():\n",
    "        sample = SQ.sample()\n",
    "        filtration.append(sample)\n",
    "    return filtration\n",
    "\n",
    "def build_simplex_tree_filtration(Hx, Hz, filtration):\n",
    "    Hz_t = Hz.T\n",
    "    vertex_stream = []\n",
    "    for simplex in filtration:\n",
    "        degree, id = simplex\n",
    "        if degree == 0:\n",
    "            vertex_stream.append([id])\n",
    "        elif degree == 1:\n",
    "            vertex_stream.append(list(np.where(Hz_t[id] == 1)[0]))\n",
    "        elif degree == 2:\n",
    "            # First triangulate cell\n",
    "            # Compute all vertices of cell\n",
    "            all_vertices = set()\n",
    "            edges = []\n",
    "            for i, edge_val in enumerate(Hx[id]):\n",
    "                if edge_val == 1:\n",
    "                    vertices = list(np.where(Hz_t[i] == 1)[0])\n",
    "                    edge = []\n",
    "                    for vertex in vertices:\n",
    "                        all_vertices.add(vertex)\n",
    "                        edge.append(vertex)\n",
    "                    edges.append(edge)\n",
    "            all_vertices = list(all_vertices)\n",
    "            print(all_vertices, len(all_vertices))\n",
    "            # Flip a random vertex to be 0 such that we have a set of size 3\n",
    "            # Maybe do n choose 3?\n",
    "            # subset = random.sample(all_vertices, 3)\n",
    "            # vertex_stream.append(subset)\n",
    "            edge_path, start = compute_edge_path(edges, len(all_vertices))\n",
    "            for edge in edge_path:\n",
    "                vertex_stream.append([start] + edge)\n",
    "    return vertex_stream\n",
    "\n",
    "def compute_edge_path(edges, num_vertices):\n",
    "\n",
    "    start = edges[0][0]\n",
    "    graph = {}\n",
    "    for u, v in edges:\n",
    "        if u not in graph:\n",
    "            graph[u] = []\n",
    "        if v not in graph:\n",
    "            graph[v] = []\n",
    "        graph[u].append(v)\n",
    "        graph[v].append(u)\n",
    "\n",
    "    # Initialize a stack for DFS\n",
    "    stack = [(start, [start])]\n",
    "\n",
    "    # Initialize a set to keep track of visited vertices\n",
    "    visited = set()\n",
    "\n",
    "    while stack:\n",
    "        current_vertex, path = stack.pop()\n",
    "\n",
    "        # Mark the current vertex as visited\n",
    "        visited.add(current_vertex)\n",
    "\n",
    "        if len(path) == num_vertices:\n",
    "            # If all vertices have been reached\n",
    "            break\n",
    "\n",
    "        # Explore adjacent vertices\n",
    "        for neighbor in graph[current_vertex]:\n",
    "            if neighbor not in visited:\n",
    "                # Push the neighbor onto the stack along with the updated path\n",
    "                stack.append((neighbor, path + [neighbor]))\n",
    "    \n",
    "    # Initialize an empty list to store the pairs\n",
    "    pairs_list = []\n",
    "\n",
    "    # Iterate through the input list to create pairs\n",
    "    for i in range(len(path) - 1):\n",
    "        pairs_list.append([path[i], path[i + 1]])\n",
    "\n",
    "    # Remove first edge containing the start vertex (the first edge)\n",
    "    pairs_list.pop(0)\n",
    "    return pairs_list, start\n",
    "\n",
    "E = [[0, 1], [1, 2], [3, 2], [4, 3], [4, 0]]\n",
    "print(compute_edge_path(E, 5))"
   ]
  },
  {
   "cell_type": "code",
   "execution_count": 46,
   "metadata": {},
   "outputs": [],
   "source": [
    "# Hx = np.array([[1, 1, 0, 0, 1, 0, 1, 0],\n",
    "#                [1, 1, 0, 0, 0, 1, 0, 1],\n",
    "#                [0, 0, 1, 1, 1, 0, 1, 0],\n",
    "#                [0, 0, 1, 1, 0, 1, 0, 1]])\n",
    "# Hz = np.array([[1, 0, 1, 0, 1, 1, 0, 0],\n",
    "#                [0, 1, 0, 1, 1, 1, 0, 0],\n",
    "#                [1, 0, 1, 0, 0, 0, 1, 1],\n",
    "#                [0, 1, 0, 1, 0, 0, 1, 1]])\n",
    "Hx = big_code.Hx.toarray()\n",
    "Hz = big_code.Hz.toarray()"
   ]
  },
  {
   "cell_type": "code",
   "execution_count": 44,
   "metadata": {},
   "outputs": [
    {
     "name": "stdout",
     "output_type": "stream",
     "text": [
      "[(0, 15), (0, 10), (0, 72), (0, 94), (0, 96), (0, 2), (0, 53), (0, 86), (0, 19), (0, 27), (0, 62), (0, 65), (0, 47), (0, 43), (0, 76), (0, 64), (0, 78), (0, 24), (0, 91), (0, 89), (0, 20), (0, 28), (0, 44), (0, 75), (0, 99), (0, 90), (0, 30), (0, 66), (0, 60), (0, 0), (0, 33), (0, 74), (0, 21), (0, 4), (0, 39), (0, 81), (0, 95), (0, 5), (0, 82), (0, 83), (0, 77), (1, 81), (0, 38), (0, 26), (0, 29), (0, 56), (0, 41), (0, 35), (0, 73), (0, 25), (0, 45), (1, 128), (1, 177), (0, 37), (1, 20), (0, 57), (0, 54), (0, 40), (1, 124), (0, 14), (0, 16), (0, 22), (0, 85), (1, 185), (0, 63), (0, 11), (1, 0), (1, 94), (1, 75), (1, 62), (1, 66), (1, 182), (1, 15), (0, 9), (0, 1), (1, 194), (1, 138), (0, 31), (1, 21), (0, 32), (1, 47), (1, 129), (0, 52), (1, 19), (1, 54), (1, 28), (1, 127), (1, 1), (1, 164), (1, 175), (0, 70), (1, 104), (0, 48), (0, 23), (1, 165), (0, 71), (1, 174), (0, 80), (1, 153), (0, 6), (1, 33), (0, 92), (1, 139), (1, 176), (1, 105), (1, 11), (0, 84), (1, 73), (0, 87), (0, 67), (0, 61), (0, 51), (1, 27), (0, 46), (1, 119), (0, 59), (1, 86), (1, 121), (1, 46), (1, 22), (1, 115), (0, 34), (1, 29), (1, 191), (0, 17), (1, 186), (1, 130), (1, 65), (2, 28), (1, 133), (1, 76), (1, 71), (1, 5), (0, 97), (1, 122), (1, 183), (1, 116), (2, 29), (1, 146), (0, 36), (1, 90), (1, 95), (1, 181), (1, 152), (1, 63), (1, 196), (1, 163), (1, 36), (1, 136), (1, 120), (2, 20), (1, 134), (0, 3), (1, 61), (0, 68), (1, 190), (1, 123), (1, 162), (1, 16), (0, 98), (1, 53), (1, 82), (1, 72), (0, 49), (1, 91), (1, 67), (2, 53), (1, 9), (1, 44), (1, 100), (0, 79), (1, 96), (1, 166), (1, 145), (1, 137), (0, 88), (0, 42), (2, 65), (1, 37), (1, 77), (0, 13), (0, 69), (1, 109), (1, 131), (1, 80), (1, 70), (0, 55), (1, 30), (1, 198), (1, 147), (1, 189), (1, 35), (1, 160), (1, 135), (1, 125), (0, 12), (2, 66), (1, 184), (1, 173), (1, 78), (1, 64), (1, 89), (1, 26), (2, 15), (0, 93), (1, 179), (1, 87), (1, 156), (1, 126), (2, 35), (1, 187), (1, 171), (1, 38), (0, 7), (1, 140), (1, 55), (1, 110), (1, 12), (1, 24), (1, 41), (2, 81), (1, 17), (0, 8), (1, 144), (0, 50), (2, 71), (2, 63), (2, 9), (2, 75), (1, 167), (1, 79), (1, 168), (2, 94), (2, 86), (1, 172), (1, 141), (1, 111), (0, 58), (1, 161), (1, 193), (0, 18), (2, 77), (1, 106), (1, 143), (1, 103), (1, 114), (1, 180), (1, 155), (1, 97), (1, 157), (1, 199), (1, 93), (1, 170), (1, 154), (1, 68), (1, 98), (1, 7), (1, 39), (1, 102), (1, 42), (2, 11), (1, 117), (1, 31), (1, 169), (1, 150), (1, 188), (1, 4), (1, 45), (1, 99), (2, 76), (1, 151), (2, 37), (1, 10), (2, 72), (2, 70), (1, 60), (2, 16), (1, 178), (1, 197), (1, 69), (2, 45), (1, 158), (1, 14), (2, 99), (1, 51), (1, 195), (1, 25), (1, 57), (2, 62), (2, 96), (1, 2), (1, 84), (1, 50), (1, 18), (1, 58), (2, 64), (1, 148), (1, 74), (2, 19), (2, 36), (1, 48), (2, 25), (1, 132), (2, 0), (2, 17), (1, 34), (1, 88), (1, 59), (1, 85), (1, 23), (2, 14), (2, 34), (1, 83), (1, 142), (1, 43), (2, 88), (2, 27), (2, 24), (2, 21), (1, 118), (2, 30), (1, 32), (2, 22), (1, 49), (1, 52), (2, 41), (2, 50), (2, 51), (2, 46), (2, 60), (1, 159), (1, 92), (2, 85), (1, 101), (2, 57), (1, 56), (2, 84), (2, 73), (1, 192), (1, 113), (1, 107), (2, 61), (1, 6), (2, 80), (2, 32), (2, 44), (1, 13), (2, 52), (2, 78), (1, 112), (2, 68), (1, 108), (2, 74), (2, 56), (2, 43), (2, 59), (2, 6), (2, 69), (2, 5), (2, 4), (2, 95), (2, 55), (2, 90), (2, 54), (2, 31), (2, 18), (2, 98), (1, 149), (2, 23), (2, 89), (1, 40), (2, 40), (2, 1), (2, 92), (2, 79), (2, 13), (2, 91), (2, 83), (2, 48), (1, 8), (2, 49), (2, 10), (2, 97), (2, 12), (1, 3), (2, 42), (2, 8), (2, 82), (2, 26), (2, 7), (2, 33), (2, 67), (2, 87), (2, 39), (2, 93), (2, 2), (2, 3), (2, 47), (2, 58), (2, 38)]\n",
      "[[15], [10], [72], [94], [96], [2], [53], [86], [19], [27], [62], [65], [47], [43], [76], [64], [78], [24], [91], [89], [20], [28], [44], [75], [99], [90], [30], [66], [60], [0], [33], [74], [21], [4], [39], [81], [95], [5], [82], [83], [77], [81, 91], [38], [26], [29], [56], [41], [35], [73], [25], [45], [28, 29], [77, 78], [37], [20, 30], [57], [54], [40], [24, 25], [14], [16], [22], [85], [85, 86], [63], [11], [0, 10], [4, 94], [75, 85], [62, 72], [66, 76], [82, 83], [15, 25], [9], [1], [94, 95], [38, 39], [31], [21, 31], [32], [47, 57], [20, 29], [52], [19, 29], [54, 64], [28, 38], [27, 28], [1, 11], [64, 65], [75, 76], [70], [4, 5], [48], [23], [65, 66], [71], [74, 75], [80], [53, 54], [6], [33, 43], [92], [30, 39], [76, 77], [5, 6], [11, 21], [84], [73, 83], [87], [67], [61], [51], [27, 37], [46], [10, 19], [59], [86, 96], [21, 22], [46, 56], [22, 32], [15, 16], [34], [29, 39], [91, 92], [17], [86, 87], [30, 31], [65, 75], [29, 38, 28], [33, 34], [76, 86], [71, 81], [5, 15], [97], [22, 23], [83, 84], [16, 17], [29, 20, 39], [46, 47], [36], [0, 90], [5, 95], [81, 82], [52, 53], [63, 73], [96, 97], [63, 64], [36, 46], [36, 37], [20, 21], [21, 20, 31], [34, 35], [3], [61, 71], [68], [90, 91], [23, 24], [62, 63], [16, 26], [98], [53, 63], [82, 92], [72, 82], [49], [1, 91], [67, 77], [63, 53, 64], [9, 19], [44, 54], [0, 1], [79], [6, 96], [66, 67], [45, 46], [37, 38], [88], [42], [75, 76, 66], [37, 47], [77, 87], [13], [69], [0, 9], [31, 32], [80, 90], [70, 80], [55], [30, 40], [98, 99], [47, 48], [80, 89], [35, 45], [60, 61], [35, 36], [25, 26], [12], [67, 66, 76], [84, 85], [73, 74], [78, 88], [64, 74], [89, 99], [26, 36], [15, 25, 26], [93], [70, 79], [87, 97], [56, 57], [26, 27], [46, 45, 35], [87, 88], [71, 72], [38, 48], [7], [40, 41], [55, 65], [10, 11], [12, 22], [24, 34], [41, 51], [91, 81, 92], [17, 27], [8], [44, 45], [50], [81, 82, 71], [73, 74, 63], [10, 9, 19], [76, 75, 86], [67, 68], [79, 89], [68, 69], [4, 5, 94], [96, 87, 86], [72, 73], [41, 42], [11, 12], [58], [61, 62], [93, 94], [18], [77, 88, 78], [6, 7], [43, 44], [3, 4], [14, 15], [80, 81], [55, 56], [7, 97], [57, 58], [90, 99], [3, 93], [70, 71], [54, 55], [68, 78], [8, 98], [7, 17], [39, 49], [2, 3], [42, 52], [12, 21, 22], [17, 18], [31, 41], [60, 69], [50, 51], [88, 89], [4, 14], [45, 55], [9, 99], [87, 77, 86], [51, 52], [47, 38, 37], [10, 20], [73, 82, 72], [80, 81, 71], [60, 70], [17, 27, 26], [78, 79], [97, 98], [69, 79], [46, 55, 56], [58, 59], [14, 24], [90, 0, 9], [51, 61], [95, 96], [25, 35], [57, 67], [73, 72, 63], [6, 97, 7], [2, 12], [84, 94], [50, 60], [18, 28], [58, 68], [74, 64, 75], [48, 49], [74, 84], [29, 20, 19], [46, 47, 37], [48, 58], [25, 26, 35], [32, 33], [11, 0, 10], [28, 18, 17], [34, 44], [88, 98], [59, 69], [85, 95], [23, 33], [14, 25, 24], [44, 45, 35], [83, 93], [42, 43], [43, 53], [88, 99, 98], [28, 37, 27], [34, 24, 25], [31, 22, 32], [18, 19], [41, 40, 31], [32, 42], [22, 32, 33], [49, 59], [52, 62], [51, 41, 52], [61, 51, 50], [62, 51, 52], [56, 57, 46], [61, 70, 60], [50, 59], [2, 92], [85, 86, 95], [1, 2], [58, 67, 57], [56, 66], [85, 95, 94], [83, 73, 74], [92, 93], [13, 14], [7, 8], [72, 62, 71], [6, 16], [80, 81, 90], [32, 43, 42], [55, 45, 44], [13, 23], [53, 63, 62], [78, 79, 89], [12, 13], [79, 78, 69], [8, 9], [74, 75, 84], [56, 57, 66], [44, 53, 54], [60, 59, 50], [16, 7, 6], [69, 79, 70], [6, 5, 15], [5, 15, 4], [96, 5, 95], [66, 55, 56], [90, 0, 1], [64, 55, 65], [32, 31, 41], [29, 19, 28], [9, 99, 98], [40, 49], [23, 24, 34], [80, 99, 89], [40, 50], [40, 51, 41], [11, 2, 12], [93, 2, 92], [79, 70, 80], [13, 14, 24], [91, 92, 1], [84, 93, 83], [49, 58, 59], [8, 18], [59, 40, 49], [20, 21, 11], [97, 98, 8], [22, 12, 13], [3, 13], [43, 53, 52], [9, 19, 8], [82, 83, 92], [37, 26, 27], [17, 18, 8], [44, 34, 33], [78, 77, 67], [97, 87, 88], [30, 40, 49], [3, 94, 4], [2, 13, 3], [4, 13, 3], [47, 57, 48], [58, 69, 59], [39, 48, 38]]\n",
      "2\n",
      "500\n",
      "100\n"
     ]
    },
    {
     "data": {
      "text/plain": [
       "[1, 101]"
      ]
     },
     "execution_count": 44,
     "metadata": {},
     "output_type": "execute_result"
    },
    {
     "data": {
      "image/png": "[encoded data removed]",
      "text/plain": [
       "<Figure size 640x480 with 1 Axes>"
      ]
     },
     "metadata": {},
     "output_type": "display_data"
    }
   ],
   "source": [
    "# print(TS3(Hx, Hz))\n",
    "filtration = sample_filtration(Hx, Hz)\n",
    "st_filtration = build_simplex_tree_filtration(Hx, Hz, filtration)\n",
    "print(filtration)\n",
    "print(st_filtration)\n",
    "\n",
    "st = gudhi.SimplexTree()\n",
    "t = 0.0\n",
    "for simplex in st_filtration:\n",
    "    st.insert(simplex, t)\n",
    "    t += 1.0\n",
    "\n",
    "print(st.dimension())\n",
    "print(st.num_simplices())\n",
    "print(st.num_vertices())\n",
    "\n",
    "# Compute persistence\n",
    "diag = st.persistence()\n",
    "\n",
    "# Plotting the persistence diagram\n",
    "gudhi.plot_persistence_diagram(diag)\n",
    "st.betti_numbers()"
   ]
  },
  {
   "cell_type": "code",
   "execution_count": 64,
   "metadata": {},
   "outputs": [
    {
     "name": "stdout",
     "output_type": "stream",
     "text": [
      "[1, 2] 2\n"
     ]
    },
    {
     "ename": "ValueError",
     "evalue": "Sample larger than population or is negative",
     "output_type": "error",
     "traceback": [
      "\u001b[0;31m---------------------------------------------------------------------------\u001b[0m",
      "\u001b[0;31mValueError\u001b[0m                                Traceback (most recent call last)",
      "Cell \u001b[0;32mIn[64], line 3\u001b[0m\n\u001b[1;32m      1\u001b[0m \u001b[38;5;66;03m# print(TS3(Hx, Hz))\u001b[39;00m\n\u001b[1;32m      2\u001b[0m filtration \u001b[38;5;241m=\u001b[39m sample_filtration(Hx, Hz)\n\u001b[0;32m----> 3\u001b[0m st_filtration \u001b[38;5;241m=\u001b[39m \u001b[43mbuild_simplex_tree_filtration\u001b[49m\u001b[43m(\u001b[49m\u001b[43mHx\u001b[49m\u001b[43m,\u001b[49m\u001b[43m \u001b[49m\u001b[43mHz\u001b[49m\u001b[43m,\u001b[49m\u001b[43m \u001b[49m\u001b[43mfiltration\u001b[49m\u001b[43m)\u001b[49m\n\u001b[1;32m      4\u001b[0m \u001b[38;5;28mprint\u001b[39m(filtration)\n\u001b[1;32m      5\u001b[0m \u001b[38;5;28mprint\u001b[39m(st_filtration)\n",
      "Cell \u001b[0;32mIn[63], line 95\u001b[0m, in \u001b[0;36mbuild_simplex_tree_filtration\u001b[0;34m(Hx, Hz, filtration)\u001b[0m\n\u001b[1;32m     92\u001b[0m \u001b[38;5;28mprint\u001b[39m(all_vertices, \u001b[38;5;28mlen\u001b[39m(all_vertices))\n\u001b[1;32m     93\u001b[0m \u001b[38;5;66;03m# Flip a random vertex to be 0 such that we have a set of size 3\u001b[39;00m\n\u001b[1;32m     94\u001b[0m \u001b[38;5;66;03m# Maybe do n choose 3?\u001b[39;00m\n\u001b[0;32m---> 95\u001b[0m subset_1 \u001b[38;5;241m=\u001b[39m \u001b[43mrandom\u001b[49m\u001b[38;5;241;43m.\u001b[39;49m\u001b[43msample\u001b[49m\u001b[43m(\u001b[49m\u001b[43mall_vertices\u001b[49m\u001b[43m,\u001b[49m\u001b[43m \u001b[49m\u001b[38;5;241;43m3\u001b[39;49m\u001b[43m)\u001b[49m\n\u001b[1;32m     96\u001b[0m subset_2 \u001b[38;5;241m=\u001b[39m random\u001b[38;5;241m.\u001b[39msample(all_vertices, \u001b[38;5;241m3\u001b[39m)\n\u001b[1;32m     97\u001b[0m subset_3 \u001b[38;5;241m=\u001b[39m random\u001b[38;5;241m.\u001b[39msample(all_vertices, \u001b[38;5;241m3\u001b[39m)\n",
      "File \u001b[0;32m~/miniconda3/envs/qec/lib/python3.10/random.py:482\u001b[0m, in \u001b[0;36mRandom.sample\u001b[0;34m(self, population, k, counts)\u001b[0m\n\u001b[1;32m    480\u001b[0m randbelow \u001b[38;5;241m=\u001b[39m \u001b[38;5;28mself\u001b[39m\u001b[38;5;241m.\u001b[39m_randbelow\n\u001b[1;32m    481\u001b[0m \u001b[38;5;28;01mif\u001b[39;00m \u001b[38;5;129;01mnot\u001b[39;00m \u001b[38;5;241m0\u001b[39m \u001b[38;5;241m<\u001b[39m\u001b[38;5;241m=\u001b[39m k \u001b[38;5;241m<\u001b[39m\u001b[38;5;241m=\u001b[39m n:\n\u001b[0;32m--> 482\u001b[0m     \u001b[38;5;28;01mraise\u001b[39;00m \u001b[38;5;167;01mValueError\u001b[39;00m(\u001b[38;5;124m\"\u001b[39m\u001b[38;5;124mSample larger than population or is negative\u001b[39m\u001b[38;5;124m\"\u001b[39m)\n\u001b[1;32m    483\u001b[0m result \u001b[38;5;241m=\u001b[39m [\u001b[38;5;28;01mNone\u001b[39;00m] \u001b[38;5;241m*\u001b[39m k\n\u001b[1;32m    484\u001b[0m setsize \u001b[38;5;241m=\u001b[39m \u001b[38;5;241m21\u001b[39m        \u001b[38;5;66;03m# size of a small set minus size of an empty list\u001b[39;00m\n",
      "\u001b[0;31mValueError\u001b[0m: Sample larger than population or is negative"
     ]
    }
   ],
   "source": [
    "# print(TS3(Hx, Hz))\n",
    "filtration = sample_filtration(Hx, Hz)\n",
    "st_filtration = build_simplex_tree_filtration(Hx, Hz, filtration)\n",
    "print(filtration)\n",
    "print(st_filtration)\n",
    "\n",
    "st = gudhi.SimplexTree()\n",
    "t = 0.0\n",
    "for simplex in st_filtration:\n",
    "    st.insert(simplex, t)\n",
    "    t += 1.0\n",
    "\n",
    "print(st.dimension())\n",
    "print(st.num_simplices())\n",
    "print(st.num_vertices())\n",
    "\n",
    "# Compute persistence\n",
    "diag = st.persistence()\n",
    "\n",
    "# Plotting the persistence diagram\n",
    "gudhi.plot_persistence_diagram(diag)\n",
    "st.betti_numbers()"
   ]
  },
  {
   "cell_type": "code",
   "execution_count": 69,
   "metadata": {},
   "outputs": [
    {
     "name": "stdout",
     "output_type": "stream",
     "text": [
      "[0 0 0 0 0 0 0 0 0 0 0 0 0 0 0 0 0 0 0 0 0 0 0 0 0 0 0 0 0 0 0 0 0 0 0 0 1\n",
      " 1 0 0 0 0 0 0 0 0 0 0 0 0 0 0 0 0 0 0 0 0 0 0 0 0 0 0 0 0 0 0 0 0 0 0 0 0\n",
      " 0 0 0 0 0 0 0 0 0 0 0 0 0 0 0 0 0 0 0 0 0 0 0 0 0 0 0 0 0 0 0 0 0 0 0 0 0\n",
      " 0 0 0 0 0 0 0 0 0 0 0 0 0 1 0 0 0 0 0 0 0 0 1 0 0 0 0 0 0 0 0 0 0 0 0 0 0\n",
      " 0 0 0 0 0 0 0 0 0 0 0 0 0 0 0 0 0 0 0 0 0 0 0 0 0 0 0 0 0 0 0 0 0]\n",
      "[26, 36] 36\n",
      "[27, 37] 37\n",
      "[26, 27] 124\n",
      "[36, 37] 133\n",
      "[26, 27, 36, 37] 4\n",
      "[0 0 0 0 0 0 0 0 0 0 0 0 0 0 0 0 0 0 0 0 0 0 0 0 0 0 0 0 0 0 0 0 0 0 0 0 0\n",
      " 0 0 0 0 0 0 0 0 0 0 0 0 0 0 0 0 0 0 0 0 0 0 0 0 0 0 0 0 0 0 0 0 0 0 0 0 0\n",
      " 0 1 1 0 0 0 0 0 0 0 0 0 0 0 0 0 0 0 0 0 0 0 0 0 0 0 0 0 0 0 0 0 0 0 0 0 0\n",
      " 0 0 0 0 0 0 0 0 0 0 0 0 0 0 0 0 0 0 0 0 0 0 0 0 0 0 0 0 0 0 0 0 0 0 0 0 0\n",
      " 0 0 0 0 0 0 0 0 0 0 0 1 0 0 0 0 0 0 0 0 1 0 0 0 0 0 0 0 0 0 0 0 0]\n",
      "[65, 75] 75\n",
      "[66, 76] 76\n",
      "[65, 66] 159\n",
      "[75, 76] 168\n",
      "[65, 66, 75, 76] 4\n",
      "[0 0 0 0 0 0 0 0 0 0 0 0 0 0 0 0 0 0 0 0 0 0 0 0 0 0 0 0 0 0 0 0 0 0 0 0 0\n",
      " 0 0 0 0 0 0 0 0 0 0 0 0 0 0 0 1 1 0 0 0 0 0 0 0 0 0 0 0 0 0 0 0 0 0 0 0 0\n",
      " 0 0 0 0 0 0 0 0 0 0 0 0 0 0 0 0 0 0 0 0 0 0 0 0 0 0 0 0 0 0 0 0 0 0 0 0 0\n",
      " 0 0 0 0 0 0 0 0 0 0 0 0 0 0 0 0 0 0 0 0 0 0 0 0 0 0 0 1 0 0 0 0 0 0 0 0 1\n",
      " 0 0 0 0 0 0 0 0 0 0 0 0 0 0 0 0 0 0 0 0 0 0 0 0 0 0 0 0 0 0 0 0 0]\n",
      "[42, 52] 52\n",
      "[43, 53] 53\n",
      "[42, 43] 138\n",
      "[52, 53] 147\n",
      "[42, 43, 52, 53] 4\n",
      "[0 0 0 0 0 0 0 0 0 0 0 0 0 0 0 0 0 0 0 0 0 0 0 0 0 0 0 0 0 0 0 0 0 0 0 0 0\n",
      " 0 0 0 0 0 0 0 0 0 0 0 0 0 0 0 0 0 0 0 0 0 0 0 0 0 0 0 0 0 0 0 0 0 0 0 1 1\n",
      " 0 0 0 0 0 0 0 0 0 0 0 0 0 0 0 0 0 0 0 0 0 0 0 0 0 0 0 0 0 0 0 0 0 0 0 0 0\n",
      " 0 0 0 0 0 0 0 0 0 0 0 0 0 0 0 0 0 0 0 0 0 0 0 0 0 0 0 0 0 0 0 0 0 0 0 0 0\n",
      " 0 0 0 0 0 0 0 0 1 0 0 0 0 0 0 0 0 1 0 0 0 0 0 0 0 0 0 0 0 0 0 0 0]\n",
      "[62, 72] 72\n",
      "[63, 73] 73\n",
      "[62, 63] 156\n",
      "[72, 73] 165\n",
      "[72, 73, 62, 63] 4\n",
      "[0 0 0 0 0 0 0 0 0 0 0 0 0 0 0 0 0 0 0 0 0 0 0 0 0 0 0 0 0 0 0 0 0 0 0 0 0\n",
      " 0 0 0 0 0 0 0 0 0 0 0 0 0 0 0 0 0 0 0 0 0 0 0 1 1 0 0 0 0 0 0 0 0 0 0 0 0\n",
      " 0 0 0 0 0 0 0 0 0 0 0 0 0 0 0 0 0 0 0 0 0 0 0 0 0 0 0 0 0 0 0 0 0 0 0 0 0\n",
      " 0 0 0 0 0 0 0 0 0 0 0 0 0 0 0 0 0 0 0 0 0 0 0 0 0 0 0 0 0 0 0 0 0 0 1 0 0\n",
      " 0 0 0 0 0 0 1 0 0 0 0 0 0 0 0 0 0 0 0 0 0 0 0 0 0 0 0 0 0 0 0 0 0]\n",
      "[50, 60] 60\n",
      "[51, 61] 61\n",
      "[50, 51] 145\n",
      "[60, 61] 154\n",
      "[50, 51, 60, 61] 4\n",
      "[0 0 0 1 1 0 0 0 0 0 0 0 0 0 0 0 0 0 0 0 0 0 0 0 0 0 0 0 0 0 0 0 0 0 0 0 0\n",
      " 0 0 0 0 0 0 0 0 0 0 0 0 0 0 0 0 0 0 0 0 0 0 0 0 0 0 0 0 0 0 0 0 0 0 0 0 0\n",
      " 0 0 0 0 0 0 0 0 0 0 0 0 0 0 0 0 0 0 0 0 0 0 0 0 0 0 0 0 0 1 0 0 0 0 0 0 0\n",
      " 0 0 0 0 0 0 0 0 0 0 0 0 0 0 0 0 0 0 0 0 0 0 0 0 0 0 0 0 0 0 0 0 0 0 0 0 0\n",
      " 0 0 0 0 0 0 0 0 0 0 0 0 0 0 0 0 0 0 0 0 0 0 0 0 0 0 0 0 0 0 0 0 0]\n",
      "[3] 3\n",
      "[4] 4\n",
      "[3, 4] 103\n",
      "[3, 4] 2\n"
     ]
    },
    {
     "ename": "ValueError",
     "evalue": "Sample larger than population or is negative",
     "output_type": "error",
     "traceback": [
      "\u001b[0;31m---------------------------------------------------------------------------\u001b[0m",
      "\u001b[0;31mValueError\u001b[0m                                Traceback (most recent call last)",
      "Cell \u001b[0;32mIn[69], line 4\u001b[0m\n\u001b[1;32m      2\u001b[0m Hz \u001b[38;5;241m=\u001b[39m surf_code\u001b[38;5;241m.\u001b[39mHz\u001b[38;5;241m.\u001b[39mtoarray()\n\u001b[1;32m      3\u001b[0m filtration \u001b[38;5;241m=\u001b[39m sample_filtration(Hx, Hz)\n\u001b[0;32m----> 4\u001b[0m st_filtration \u001b[38;5;241m=\u001b[39m \u001b[43mbuild_simplex_tree_filtration\u001b[49m\u001b[43m(\u001b[49m\u001b[43mHx\u001b[49m\u001b[43m,\u001b[49m\u001b[43m \u001b[49m\u001b[43mHz\u001b[49m\u001b[43m,\u001b[49m\u001b[43m \u001b[49m\u001b[43mfiltration\u001b[49m\u001b[43m)\u001b[49m\n\u001b[1;32m      5\u001b[0m \u001b[38;5;28mprint\u001b[39m(filtration)\n\u001b[1;32m      6\u001b[0m \u001b[38;5;28mprint\u001b[39m(st_filtration)\n",
      "Cell \u001b[0;32mIn[68], line 97\u001b[0m, in \u001b[0;36mbuild_simplex_tree_filtration\u001b[0;34m(Hx, Hz, filtration)\u001b[0m\n\u001b[1;32m     94\u001b[0m \u001b[38;5;28mprint\u001b[39m(all_vertices, \u001b[38;5;28mlen\u001b[39m(all_vertices))\n\u001b[1;32m     95\u001b[0m \u001b[38;5;66;03m# Flip a random vertex to be 0 such that we have a set of size 3\u001b[39;00m\n\u001b[1;32m     96\u001b[0m \u001b[38;5;66;03m# Maybe do n choose 3?\u001b[39;00m\n\u001b[0;32m---> 97\u001b[0m subset_1 \u001b[38;5;241m=\u001b[39m \u001b[43mrandom\u001b[49m\u001b[38;5;241;43m.\u001b[39;49m\u001b[43msample\u001b[49m\u001b[43m(\u001b[49m\u001b[43mall_vertices\u001b[49m\u001b[43m,\u001b[49m\u001b[43m \u001b[49m\u001b[38;5;241;43m3\u001b[39;49m\u001b[43m)\u001b[49m\n\u001b[1;32m     98\u001b[0m subset_2 \u001b[38;5;241m=\u001b[39m random\u001b[38;5;241m.\u001b[39msample(all_vertices, \u001b[38;5;241m3\u001b[39m)\n\u001b[1;32m     99\u001b[0m subset_3 \u001b[38;5;241m=\u001b[39m random\u001b[38;5;241m.\u001b[39msample(all_vertices, \u001b[38;5;241m3\u001b[39m)\n",
      "File \u001b[0;32m~/miniconda3/envs/qec/lib/python3.10/random.py:482\u001b[0m, in \u001b[0;36mRandom.sample\u001b[0;34m(self, population, k, counts)\u001b[0m\n\u001b[1;32m    480\u001b[0m randbelow \u001b[38;5;241m=\u001b[39m \u001b[38;5;28mself\u001b[39m\u001b[38;5;241m.\u001b[39m_randbelow\n\u001b[1;32m    481\u001b[0m \u001b[38;5;28;01mif\u001b[39;00m \u001b[38;5;129;01mnot\u001b[39;00m \u001b[38;5;241m0\u001b[39m \u001b[38;5;241m<\u001b[39m\u001b[38;5;241m=\u001b[39m k \u001b[38;5;241m<\u001b[39m\u001b[38;5;241m=\u001b[39m n:\n\u001b[0;32m--> 482\u001b[0m     \u001b[38;5;28;01mraise\u001b[39;00m \u001b[38;5;167;01mValueError\u001b[39;00m(\u001b[38;5;124m\"\u001b[39m\u001b[38;5;124mSample larger than population or is negative\u001b[39m\u001b[38;5;124m\"\u001b[39m)\n\u001b[1;32m    483\u001b[0m result \u001b[38;5;241m=\u001b[39m [\u001b[38;5;28;01mNone\u001b[39;00m] \u001b[38;5;241m*\u001b[39m k\n\u001b[1;32m    484\u001b[0m setsize \u001b[38;5;241m=\u001b[39m \u001b[38;5;241m21\u001b[39m        \u001b[38;5;66;03m# size of a small set minus size of an empty list\u001b[39;00m\n",
      "\u001b[0;31mValueError\u001b[0m: Sample larger than population or is negative"
     ]
    }
   ],
   "source": [
    "Hx = surf_code.Hx.toarray()\n",
    "Hz = surf_code.Hz.toarray()\n",
    "filtration = sample_filtration(Hx, Hz)\n",
    "st_filtration = build_simplex_tree_filtration(Hx, Hz, filtration)\n",
    "print(filtration)\n",
    "print(st_filtration)\n",
    "\n",
    "st = gudhi.SimplexTree()\n",
    "t = 0.0\n",
    "for simplex in st_filtration:\n",
    "    st.insert(simplex, t)\n",
    "    t += 1.0\n",
    "\n",
    "print(st.dimension())\n",
    "print(st.num_simplices())\n",
    "print(st.num_vertices())\n",
    "\n",
    "# Compute persistence\n",
    "diag = st.persistence()\n",
    "\n",
    "# Plotting the persistence diagram\n",
    "gudhi.plot_persistence_diagram(diag)\n",
    "st.betti_numbers()"
   ]
  },
  {
   "cell_type": "code",
   "execution_count": null,
   "metadata": {},
   "outputs": [],
   "source": []
  }
 ],
 "metadata": {
  "kernelspec": {
   "display_name": "qec",
   "language": "python",
   "name": "python3"
  },
  "language_info": {
   "codemirror_mode": {
    "name": "ipython",
    "version": 3
   },
   "file_extension": ".py",
   "mimetype": "text/x-python",
   "name": "python",
   "nbconvert_exporter": "python",
   "pygments_lexer": "ipython3",
   "version": "3.9.6"
  }
 },
 "nbformat": 4,
 "nbformat_minor": 2
}
