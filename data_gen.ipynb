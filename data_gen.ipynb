{
 "cells": [
  {
   "cell_type": "markdown",
   "metadata": {},
   "source": [
    "# Learning the shape of manifold from the code generated from celluation from that manifold"
   ]
  },
  {
   "cell_type": "markdown",
   "metadata": {},
   "source": [
    "## Data generation"
   ]
  },
  {
   "cell_type": "markdown",
   "metadata": {},
   "source": [
    "### 1. How to generate the stabilizer generators of a code and store them"
   ]
  },
  {
   "cell_type": "code",
   "execution_count": 1,
   "metadata": {},
   "outputs": [],
   "source": [
    "from panqec.codes.surface_2d import Toric2DCode\n",
    "from panqec.codes.surface_2d import Planar2DCode\n",
    "from panqec.codes.color_2d import Color488Code\n",
    "from panqec.codes.color_2d import Color666PlanarCode\n",
    "from panqec.codes.color_2d import Color666ToricCode"
   ]
  },
  {
   "cell_type": "code",
   "execution_count": 14,
   "metadata": {},
   "outputs": [],
   "source": [
    "from filtration_gen import SampleQueue as sq\n",
    "import gudhi "
   ]
  },
  {
   "cell_type": "code",
   "execution_count": 8,
   "metadata": {},
   "outputs": [],
   "source": [
    "code_dict = {}"
   ]
  },
  {
   "cell_type": "code",
   "execution_count": 9,
   "metadata": {},
   "outputs": [],
   "source": [
    "code_dict['big_code'] = Toric2DCode(10)"
   ]
  },
  {
   "cell_type": "code",
   "execution_count": 10,
   "metadata": {},
   "outputs": [],
   "source": [
    "code_dict['surf_code'] = Planar2DCode(3)"
   ]
  },
  {
   "cell_type": "code",
   "execution_count": 11,
   "metadata": {},
   "outputs": [],
   "source": [
    "code_dict['color488_code'] = Color488Code(3)"
   ]
  },
  {
   "cell_type": "code",
   "execution_count": 12,
   "metadata": {},
   "outputs": [],
   "source": [
    "code_dict['color666_code'] = Color666PlanarCode(5)"
   ]
  },
  {
   "cell_type": "code",
   "execution_count": 13,
   "metadata": {},
   "outputs": [],
   "source": [
    "code_dict['color666_toric_code'] = Color666ToricCode(2)"
   ]
  },
  {
   "cell_type": "markdown",
   "metadata": {},
   "source": [
    "So, essentially, we want to use the following two quantities, which coincides with the boundary maps $\\partial_1$ and $\\partial_2$"
   ]
  },
  {
   "cell_type": "markdown",
   "metadata": {},
   "source": [
    "$$ C_2 \\xrightarrow[]{\\partial_2} C_1 \\xrightarrow[]{\\partial_1}  C_0$$"
   ]
  },
  {
   "cell_type": "markdown",
   "metadata": {},
   "source": [
    "This is $\\partial_2$"
   ]
  },
  {
   "cell_type": "code",
   "execution_count": null,
   "metadata": {},
   "outputs": [],
   "source": [
    "hx = code.Hx.toarray() "
   ]
  },
  {
   "cell_type": "markdown",
   "metadata": {},
   "source": [
    "and this is the transpose of $\\partial_1$"
   ]
  },
  {
   "cell_type": "code",
   "execution_count": null,
   "metadata": {},
   "outputs": [],
   "source": [
    "hz = code.Hz.toarray() "
   ]
  },
  {
   "cell_type": "code",
   "execution_count": null,
   "metadata": {},
   "outputs": [],
   "source": [
    "hx"
   ]
  },
  {
   "cell_type": "code",
   "execution_count": null,
   "metadata": {},
   "outputs": [],
   "source": [
    "hz.T"
   ]
  },
  {
   "cell_type": "markdown",
   "metadata": {},
   "source": [
    "they are both written in a particular basis for the chain complex, and from basic linear algebra, this basis has dimension 8, which is exactly the number of qubits, and the boundary maps induce a subspace, that we would call the \"codespace\", on which we perform error correction"
   ]
  },
  {
   "cell_type": "markdown",
   "metadata": {},
   "source": [
    "So, I guess this is a good starting point for generating the boundary maps. We can always choose different bases to generate different boundary maps that would give us the same \"codespace\". The topology of the \"codespace\" should be independent of the choice of basis, which is a good sanity check for our procedure, or could be used for just generating more data."
   ]
  },
  {
   "cell_type": "markdown",
   "metadata": {},
   "source": [
    "### 2. How to get from the Hx and Hz matrices to a persistent diagram? "
   ]
  },
  {
   "cell_type": "markdown",
   "metadata": {},
   "source": [
    "My current take is to interpret the matrices as hypergraphs, with a built-in simplicial complex structure, on which we will be able to perform a hypergraph Laplacian. The hypergraph Laplacian will be a unambiguous way to build a filtration to get our TDA going."
   ]
  },
  {
   "cell_type": "markdown",
   "metadata": {},
   "source": [
    "### 3. Using topological sort to generate a simplicial stream from a chain complex"
   ]
  },
  {
   "cell_type": "markdown",
   "metadata": {},
   "source": [
    "### 4. Doing TDA on a simplicial stream "
   ]
  },
  {
   "cell_type": "code",
   "execution_count": null,
   "metadata": {},
   "outputs": [],
   "source": [
    "Hx = big_code.Hx.toarray()\n",
    "Hz = big_code.Hz.toarray()\n",
    "filtration = sample_filtration(Hx, Hz)\n",
    "st_filtration = build_simplex_tree_filtration(Hx, Hz, filtration)\n",
    "print(filtration)\n",
    "print(st_filtration)\n",
    "\n",
    "st = gudhi.SimplexTree()\n",
    "t = 0.0\n",
    "for simplex in st_filtration:\n",
    "    st.insert(simplex, t)\n",
    "    t += 1.0\n",
    "\n",
    "print(st.dimension())\n",
    "print(st.num_simplices())\n",
    "print(st.num_vertices())\n",
    "\n",
    "# Compute persistence\n",
    "diag = st.persistence()\n",
    "\n",
    "# Plotting the persistence diagram\n",
    "gudhi.plot_persistence_diagram(diag)\n",
    "st.betti_numbers()"
   ]
  },
  {
   "cell_type": "code",
   "execution_count": null,
   "metadata": {},
   "outputs": [],
   "source": [
    "Hx = big_code.Hx.toarray()\n",
    "Hz = big_code.Hz.toarray()\n",
    "filtration = sq.sample_filtration(Hx, Hz)\n",
    "st_filtration = sq.build_simplex_tree_filtration(Hx, Hz, filtration)\n",
    "# print(filtration)\n",
    "# print(st_filtration)\n",
    "\n",
    "st = gudhi.SimplexTree()\n",
    "t = 0.0\n",
    "for simplex in st_filtration:\n",
    "    st.insert(simplex, t)\n",
    "    t += 1.0\n",
    "\n",
    "# print(st.dimension())\n",
    "# print(st.num_simplices())\n",
    "# print(st.num_vertices())\n",
    "\n",
    "# Compute persistence\n",
    "diag = st.persistence()\n",
    "\n",
    "# Plotting the persistence diagram\n",
    "gudhi.plot_persistence_diagram(diag)\n",
    "st.betti_numbers()"
   ]
  },
  {
   "cell_type": "code",
   "execution_count": null,
   "metadata": {},
   "outputs": [],
   "source": [
    "Hx = surf_code.Hx.toarray()\n",
    "Hz = surf_code.Hz.toarray()\n",
    "filtration = sample_filtration(Hx, Hz)\n",
    "st_filtration = build_simplex_tree_filtration(Hx, Hz, filtration)\n",
    "print(filtration)\n",
    "print(st_filtration)\n",
    "\n",
    "st = gudhi.SimplexTree()\n",
    "t = 0.0\n",
    "for simplex in st_filtration:\n",
    "    st.insert(simplex, t)\n",
    "    t += 1.0\n",
    "\n",
    "print(st.dimension())\n",
    "print(st.num_simplices())\n",
    "print(st.num_vertices())\n",
    "\n",
    "# Compute persistence\n",
    "diag = st.persistence()\n",
    "\n",
    "# Plotting the persistence diagram\n",
    "gudhi.plot_persistence_diagram(diag)\n",
    "st.betti_numbers()"
   ]
  },
  {
   "cell_type": "code",
   "execution_count": null,
   "metadata": {},
   "outputs": [],
   "source": [
    "Hx = color488_code.Hx.toarray()\n",
    "Hz = color488_code.Hz.toarray()\n",
    "filtration = sample_filtration(Hx, Hz)\n",
    "st_filtration = build_simplex_tree_filtration(Hx, Hz, filtration)\n",
    "print(filtration)\n",
    "print(st_filtration)\n",
    "\n",
    "st = gudhi.SimplexTree()\n",
    "t = 0.0\n",
    "for simplex in st_filtration:\n",
    "    st.insert(simplex, t)\n",
    "    t += 1.0\n",
    "\n",
    "print(st.dimension())\n",
    "print(st.num_simplices())\n",
    "print(st.num_vertices())\n",
    "\n",
    "# Compute persistence\n",
    "diag = st.persistence()\n",
    "\n",
    "# Plotting the persistence diagram\n",
    "gudhi.plot_persistence_diagram(diag)\n",
    "st.betti_numbers()"
   ]
  },
  {
   "cell_type": "code",
   "execution_count": null,
   "metadata": {},
   "outputs": [],
   "source": [
    "Hx = color488_code.Hx.toarray()\n",
    "Hz = color488_code.Hz.toarray()\n",
    "filtration = sample_filtration(Hx, Hz)\n",
    "st_filtration = build_simplex_tree_filtration(Hx, Hz, filtration)\n",
    "print(filtration)\n",
    "print(st_filtration)\n",
    "\n",
    "st = gudhi.SimplexTree()\n",
    "t = 0.0\n",
    "for simplex in st_filtration:\n",
    "    st.insert(simplex, t)\n",
    "    t += 1.0\n",
    "\n",
    "print(st.dimension())\n",
    "print(st.num_simplices())\n",
    "print(st.num_vertices())\n",
    "\n",
    "# Compute persistence\n",
    "diag = st.persistence()\n",
    "\n",
    "# Plotting the persistence diagram\n",
    "gudhi.plot_persistence_diagram(diag)\n",
    "st.betti_numbers()"
   ]
  },
  {
   "cell_type": "code",
   "execution_count": null,
   "metadata": {},
   "outputs": [],
   "source": [
    "Hx = color666_code.Hx.toarray()\n",
    "Hz = color666_code.Hz.toarray()\n",
    "filtration = sample_filtration(Hx, Hz)\n",
    "st_filtration = build_simplex_tree_filtration(Hx, Hz, filtration)\n",
    "print(filtration)\n",
    "print(st_filtration)\n",
    "\n",
    "st = gudhi.SimplexTree()\n",
    "t = 0.0\n",
    "for simplex in st_filtration:\n",
    "    st.insert(simplex, t)\n",
    "    t += 1.0\n",
    "\n",
    "print(st.dimension())\n",
    "print(st.num_simplices())\n",
    "print(st.num_vertices())\n",
    "\n",
    "# Compute persistence\n",
    "diag = st.persistence()\n",
    "\n",
    "# Plotting the persistence diagram\n",
    "gudhi.plot_persistence_diagram(diag)\n",
    "st.betti_numbers()"
   ]
  },
  {
   "cell_type": "code",
   "execution_count": null,
   "metadata": {},
   "outputs": [],
   "source": [
    "Hx = color666_toric_code.Hx.toarray()\n",
    "Hz = color666_toric_code.Hz.toarray()\n",
    "filtration = sample_filtration(Hx, Hz)\n",
    "st_filtration = build_simplex_tree_filtration(Hx, Hz, filtration)\n",
    "print(filtration)\n",
    "print(st_filtration)\n",
    "\n",
    "st = gudhi.SimplexTree()\n",
    "t = 0.0\n",
    "for simplex in st_filtration:\n",
    "    st.insert(simplex, t)\n",
    "    t += 1.0\n",
    "\n",
    "print(st.dimension())\n",
    "print(st.num_simplices())\n",
    "print(st.num_vertices())\n",
    "\n",
    "# Compute persistence\n",
    "diag = st.persistence()\n",
    "\n",
    "# Plotting the persistence diagram\n",
    "gudhi.plot_persistence_diagram(diag)\n",
    "st.betti_numbers()"
   ]
  }
 ],
 "metadata": {
  "kernelspec": {
   "display_name": "qec",
   "language": "python",
   "name": "python3"
  },
  "language_info": {
   "codemirror_mode": {
    "name": "ipython",
    "version": 3
   },
   "file_extension": ".py",
   "mimetype": "text/x-python",
   "name": "python",
   "nbconvert_exporter": "python",
   "pygments_lexer": "ipython3",
   "version": "3.10.12"
  }
 },
 "nbformat": 4,
 "nbformat_minor": 2
}
