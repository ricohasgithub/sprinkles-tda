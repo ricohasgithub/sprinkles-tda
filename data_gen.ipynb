{
 "cells": [
  {
   "cell_type": "markdown",
   "metadata": {},
   "source": [
    "# Learning the shape of manifold from the code generated from celluation from that manifold"
   ]
  },
  {
   "cell_type": "markdown",
   "metadata": {},
   "source": [
    "## Data generation"
   ]
  },
  {
   "cell_type": "markdown",
   "metadata": {},
   "source": [
    "### 1. How to generate the stabilizer generators of a code and store them"
   ]
  },
  {
   "cell_type": "markdown",
   "metadata": {},
   "source": [
    "The stabilizer generators themselves are stored in two matrices $H_z$ and $H_x$, which operate over the field of $\\mathbb{F}_2$ "
   ]
  },
  {
   "cell_type": "markdown",
   "metadata": {},
   "source": [
    "So, the first step is to code up a class which constructs these matrices for the toric code"
   ]
  },
  {
   "cell_type": "code",
   "execution_count": 2,
   "metadata": {},
   "outputs": [],
   "source": [
    "from panqec.codes.surface_2d import Toric2DCode"
   ]
  },
  {
   "cell_type": "code",
   "execution_count": 3,
   "metadata": {},
   "outputs": [],
   "source": [
    "code = Toric2DCode(2) # takes in size as an argument"
   ]
  },
  {
   "cell_type": "code",
   "execution_count": 4,
   "metadata": {},
   "outputs": [
    {
     "data": {
      "text/plain": [
       "matrix([[1, 1, 0, 0, 1, 0, 1, 0],\n",
       "        [1, 1, 0, 0, 0, 1, 0, 1],\n",
       "        [0, 0, 1, 1, 1, 0, 1, 0],\n",
       "        [0, 0, 1, 1, 0, 1, 0, 1]], dtype=uint8)"
      ]
     },
     "execution_count": 4,
     "metadata": {},
     "output_type": "execute_result"
    }
   ],
   "source": [
    "code.Hx.todense() # this is the x parity check matrix"
   ]
  },
  {
   "cell_type": "code",
   "execution_count": 5,
   "metadata": {},
   "outputs": [
    {
     "data": {
      "text/plain": [
       "matrix([[1, 0, 1, 0, 1, 1, 0, 0],\n",
       "        [0, 1, 0, 1, 1, 1, 0, 0],\n",
       "        [1, 0, 1, 0, 0, 0, 1, 1],\n",
       "        [0, 1, 0, 1, 0, 0, 1, 1]], dtype=uint8)"
      ]
     },
     "execution_count": 5,
     "metadata": {},
     "output_type": "execute_result"
    }
   ],
   "source": [
    "code.Hz.todense() # this is the z parity check matrix "
   ]
  },
  {
   "cell_type": "code",
   "execution_count": 6,
   "metadata": {},
   "outputs": [
    {
     "data": {
      "text/plain": [
       "8"
      ]
     },
     "execution_count": 6,
     "metadata": {},
     "output_type": "execute_result"
    }
   ],
   "source": [
    "code.n # this is the number of qubits, i.e. the number of columns of Hx and Hz"
   ]
  },
  {
   "cell_type": "code",
   "execution_count": 7,
   "metadata": {},
   "outputs": [
    {
     "data": {
      "text/plain": [
       "8"
      ]
     },
     "execution_count": 7,
     "metadata": {},
     "output_type": "execute_result"
    }
   ],
   "source": [
    "code.n_stabilizers # this is the number of stabilizers, i.e. the number of rows of Hx and Hz"
   ]
  },
  {
   "cell_type": "code",
   "execution_count": 9,
   "metadata": {},
   "outputs": [
    {
     "data": {
      "text/plain": [
       "2"
      ]
     },
     "execution_count": 9,
     "metadata": {},
     "output_type": "execute_result"
    }
   ],
   "source": [
    "code.k # this is the number of logical qubits encoded, in this case 2, because the torus has two non-trivial homotopic classes"
   ]
  },
  {
   "cell_type": "code",
   "execution_count": 10,
   "metadata": {},
   "outputs": [
    {
     "data": {
      "text/plain": [
       "2"
      ]
     },
     "execution_count": 10,
     "metadata": {},
     "output_type": "execute_result"
    }
   ],
   "source": [
    "code.d # this is the distance, not really relevant here, but just for completeness"
   ]
  },
  {
   "cell_type": "markdown",
   "metadata": {},
   "source": [
    "So, essentially, we want to use the following two quantities, which coincides with the boundary maps $\\partial_1$ and $\\partial_2$"
   ]
  },
  {
   "cell_type": "markdown",
   "metadata": {},
   "source": [
    "$$ C_2 \\xrightarrow[]{\\partial_2} C_1 \\xrightarrow[]{\\partial_1}  C_0$$"
   ]
  },
  {
   "cell_type": "markdown",
   "metadata": {},
   "source": [
    "This is $\\partial_2$"
   ]
  },
  {
   "cell_type": "code",
   "execution_count": 11,
   "metadata": {},
   "outputs": [
    {
     "data": {
      "text/plain": [
       "matrix([[1, 1, 0, 0, 1, 0, 1, 0],\n",
       "        [1, 1, 0, 0, 0, 1, 0, 1],\n",
       "        [0, 0, 1, 1, 1, 0, 1, 0],\n",
       "        [0, 0, 1, 1, 0, 1, 0, 1]], dtype=uint8)"
      ]
     },
     "execution_count": 11,
     "metadata": {},
     "output_type": "execute_result"
    }
   ],
   "source": [
    "code.Hx.todense() "
   ]
  },
  {
   "cell_type": "markdown",
   "metadata": {},
   "source": [
    "and this is the transpose of $\\partial_1$"
   ]
  },
  {
   "cell_type": "code",
   "execution_count": 12,
   "metadata": {},
   "outputs": [
    {
     "data": {
      "text/plain": [
       "matrix([[1, 0, 1, 0, 1, 1, 0, 0],\n",
       "        [0, 1, 0, 1, 1, 1, 0, 0],\n",
       "        [1, 0, 1, 0, 0, 0, 1, 1],\n",
       "        [0, 1, 0, 1, 0, 0, 1, 1]], dtype=uint8)"
      ]
     },
     "execution_count": 12,
     "metadata": {},
     "output_type": "execute_result"
    }
   ],
   "source": [
    "code.Hz.todense() "
   ]
  },
  {
   "cell_type": "markdown",
   "metadata": {},
   "source": [
    "they are both written in a particular basis for the chain complex, and from basic linear algebra, this basis has dimension 8, which is exactly the number of qubits, and the boundary maps induce a subspace, that we would call the \"codespace\", on which we perform error correction"
   ]
  },
  {
   "cell_type": "markdown",
   "metadata": {},
   "source": [
    "So, I guess this is a good starting point for generating the boundary maps. We can always choose different bases to generate different boundary maps that would give us the same \"codespace\". The topology of the \"codespace\" should be independent of the choice of basis, which is a good sanity check for our procedure, or could be used for just generating more data."
   ]
  },
  {
   "cell_type": "markdown",
   "metadata": {},
   "source": [
    "### 2. How to get from the Hx and Hz matrices to a persistent diagram? "
   ]
  },
  {
   "cell_type": "markdown",
   "metadata": {},
   "source": [
    "My current take is to interpret the matrices as hypergraphs, with a built-in simplicial complex structure, on which we will be able to perform a hypergraph Laplacian. The hypergraph Laplacian will be a unambiguous way to build a filtration to get our TDA going."
   ]
  },
  {
   "cell_type": "markdown",
   "metadata": {},
   "source": []
  },
  {
   "cell_type": "code",
   "execution_count": 1,
   "metadata": {},
   "outputs": [],
   "source": [
    "import numpy as np\n",
    "from ldpc import mod2\n",
    "from ldpc.alist import save_alist\n",
    "#from ldpc.code_util import compute_code_distance\n",
    "#from bposd import stab"
   ]
  },
  {
   "cell_type": "code",
   "execution_count": 1,
   "metadata": {},
   "outputs": [
    {
     "name": "stdout",
     "output_type": "stream",
     "text": [
      "Value 1\n",
      "Method 1 called with attributes: Value 1 and Value 2\n",
      "New Value\n"
     ]
    }
   ],
   "source": [
    "# Define a class\n",
    "class DataGen:\n",
    "    # Constructor (initialize the object)\n",
    "    def __init__(self, attribute1, attribute2):\n",
    "        self.attribute1 = attribute1\n",
    "        self.attribute2 = attribute2\n",
    "\n",
    "    # Define methods (functions) for the class\n",
    "    def method1(self):\n",
    "        return f\"Method 1 called with attributes: {self.attribute1} and {self.attribute2}\"\n",
    "\n",
    "    def method2(self, new_value):\n",
    "        self.attribute1 = new_value\n",
    "\n",
    "# Create an instance of the class\n",
    "obj = MyClass(\"Value 1\", \"Value 2\")\n",
    "\n",
    "# Access attributes and call methods\n",
    "print(obj.attribute1)  # Access an attribute\n",
    "print(obj.method1())   # Call a method\n",
    "\n",
    "# Modify attributes\n",
    "obj.method2(\"New Value\")\n",
    "print(obj.attribute1)  # Attribute updated\n",
    "\n",
    "# Create another instance of the class\n",
    "obj2 = MyClass(\"Another Value\", \"Another Value 2\")"
   ]
  },
  {
   "cell_type": "code",
   "execution_count": null,
   "metadata": {},
   "outputs": [],
   "source": [
    "class css_code():\n",
    "\n",
    "    def __init__(self,hx=np.array([[]]),hz=np.array([[]]), name=\"<Unnamed CSS code>\"):\n",
    "\n",
    "        self.hx=hx #hx pcm\n",
    "        self.hz=hz #hz pcm\n",
    "\n",
    "        self.lx=np.array([[]]) #x logicals\n",
    "        self.lz=np.array([[]]) #z logicals\n",
    "\n",
    "        self.N=np.nan #block length\n",
    "        self.K=np.nan #code dimension\n",
    "        self.D=code_distance #code distance\n",
    "        self.L=np.nan #max column weight\n",
    "        self.Q=np.nan #max row weight\n",
    "\n",
    "        _,nx=self.hx.shape\n",
    "        _,nz=self.hz.shape\n",
    "        try:\n",
    "            assert nx==nz\n",
    "        except AssertionError:\n",
    "            raise Exception(\"Error: hx and hz matrices must have equal numbers of columns!\")\n",
    "\n",
    "        if nx!=0:\n",
    "            self.compute_dimension()\n",
    "            self.compute_ldpc_params()\n",
    "            self.compute_logicals()\n",
    "\n",
    "        self.name=name\n",
    "\n",
    "    def compute_dimension(self):\n",
    "\n",
    "        self.N=self.hx.shape[1]\n",
    "        assert self.N == self.hz.shape[1], \"Code block length (N) inconsistent!\"\n",
    "\n",
    "        self.K=self.N-mod2.rank(self.hx)-mod2.rank(self.hz)\n",
    "        return self.K\n",
    "\n",
    "    def compute_ldpc_params(self):\n",
    "\n",
    "        #column weights\n",
    "        hx_l=np.max(np.sum(self.hx,axis=0))\n",
    "        hz_l=np.max(np.sum(self.hz,axis=0))\n",
    "        self.L=np.max([hx_l,hz_l]).astype(int)\n",
    "\n",
    "        #row weights\n",
    "        hx_q=np.max(np.sum(self.hx,axis=1))\n",
    "        hz_q=np.max(np.sum(self.hz,axis=1))\n",
    "        self.Q=np.max([hx_q,hz_q]).astype(int)\n",
    "\n",
    "    def save_sparse(self, code_name):\n",
    "\n",
    "        self.code_name=code_name\n",
    "\n",
    "        hx=self.hx\n",
    "        hz=self.hz\n",
    "        save_alist(f\"{code_name}_hx.alist\",hx)\n",
    "        save_alist(f\"{code_name}_hz.alist\",hz)\n",
    "\n",
    "        lx=self.lx\n",
    "        lz=self.lz\n",
    "        save_alist(f\"{code_name}_lx.alist\",lx)\n",
    "        save_alist(f\"{code_name}_lz.alist\",lz)\n",
    "\n",
    "    def to_stab_code(self):\n",
    "\n",
    "        hx=np.vstack([np.zeros(self.hz.shape,dtype=int),self.hx])\n",
    "        hz=np.vstack([self.hz,np.zeros(self.hx.shape,dtype=int)])\n",
    "        return stab.stab_code(hx,hz)\n",
    "\n",
    "    @property\n",
    "    def h(self):\n",
    "        hx=np.vstack([np.zeros(self.hz.shape,dtype=int),self.hx])\n",
    "        hz=np.vstack([self.hz,np.zeros(self.hx.shape,dtype=int)])\n",
    "        return np.hstack([hx,hz])\n",
    "\n",
    "    @property\n",
    "    def l(self):\n",
    "        lx=np.vstack([np.zeros(self.lz.shape,dtype=int),self.lx])\n",
    "        lz=np.vstack([self.lz,np.zeros(self.lx.shape,dtype=int)])\n",
    "        return np.hstack([lx,lz])\n",
    "\n",
    "\n",
    "    def compute_logicals(self):\n",
    "\n",
    "        def compute_lz(hx,hz):\n",
    "            #lz logical operators\n",
    "            #lz\\in ker{hx} AND \\notin Im(Hz.T)\n",
    "\n",
    "            ker_hx=mod2.nullspace(hx) #compute the kernel basis of hx\n",
    "            im_hzT=mod2.row_basis(hz) #compute the image basis of hz.T\n",
    "\n",
    "            #in the below we row reduce to find vectors in kx that are not in the image of hz.T.\n",
    "            log_stack=np.vstack([im_hzT,ker_hx])\n",
    "            pivots=mod2.row_echelon(log_stack.T)[3]\n",
    "            log_op_indices=[i for i in range(im_hzT.shape[0],log_stack.shape[0]) if i in pivots]\n",
    "            log_ops=log_stack[log_op_indices]\n",
    "            return log_ops\n",
    "\n",
    "        if self.K==np.nan: self.compute_dimension()\n",
    "        self.lx=compute_lz(self.hz,self.hx)\n",
    "        self.lz=compute_lz(self.hx,self.hz)\n",
    "\n",
    "        return self.lx,self.lz\n",
    "\n",
    "    def canonical_logicals(self):\n",
    "        temp=mod2.inverse(self.lx@self.lz.T %2)\n",
    "        self.lx=temp@self.lx %2\n",
    "\n",
    "\n",
    "    @property\n",
    "    def code_params(self):\n",
    "        try: self.N\n",
    "        except AttributeError: self.N=np.nan\n",
    "        try: self.K\n",
    "        except AttributeError: self.K=np.nan\n",
    "        try: self.D\n",
    "        except AttributeError: self.D=np.nan\n",
    "        try: self.L\n",
    "        except AttributeError: self.L=np.nan\n",
    "        try: self.Q\n",
    "        except AttributeError: self.Q=np.nan\n",
    "\n",
    "        return f\"({self.L},{self.Q})-[[{self.N},{self.K},{self.D}]]\"\n",
    "\n",
    "    def test(self, show_tests=True):\n",
    "        valid_code=True\n",
    "\n",
    "        if self.K==np.nan: self.compute_dimension()\n",
    "        self.compute_ldpc_params()\n",
    "\n",
    "        code_label=f\"{self.code_params}\"\n",
    "\n",
    "        if show_tests: print(f\"{self.name}, {code_label}\")\n",
    "\n",
    "        try:\n",
    "            assert self.N==self.hz.shape[1]==self.lz.shape[1]==self.lx.shape[1]\n",
    "            assert self.K==self.lz.shape[0]==self.lx.shape[0]\n",
    "            if show_tests: print(\" -Block dimensions: Pass\")\n",
    "        except AssertionError:\n",
    "            valid_code=False\n",
    "            print(\" -Block dimensions incorrect\")\n",
    "\n",
    "        try:\n",
    "            assert not (self.hz@self.hx.T %2).any()\n",
    "            if show_tests: print(\" -PCMs commute hz@hx.T==0: Pass\")\n",
    "        except AssertionError:\n",
    "            valid_code=False\n",
    "            print(\" -PCMs commute hz@hx.T==0: Fail\")\n",
    "\n",
    "        try:\n",
    "            assert not (self.hx@self.hz.T %2).any()\n",
    "            if show_tests: print(\" -PCMs commute hx@hz.T==0: Pass\")\n",
    "        except AssertionError:\n",
    "            valid_code=False\n",
    "            print(\" -PCMs commute hx@hz.T==0: Fail\")\n",
    "\n",
    "        # if show_tests and valid_code: print(\"\\t-PCMs commute hx@hz.T == hz@hx.T ==0: Pass\")\n",
    "\n",
    "        try:\n",
    "            assert not (self.hz@self.lx.T %2).any()\n",
    "        except AssertionError:\n",
    "            valid_code=False\n",
    "            print(\" -lx \\in ker{hz} AND lz \\in ker{hx}: Fail\")\n",
    "\n",
    "\n",
    "        try:\n",
    "            assert not (self.hx@self.lz.T %2).any()\n",
    "            if show_tests: print(\" -lx \\in ker{hz} AND lz \\in ker{hx}: Pass\")\n",
    "        except AssertionError:\n",
    "            valid_code=False\n",
    "            print(\" -lx \\in ker{hz} AND lz \\in ker{hx}: Fail\")\n",
    "\n",
    "\n",
    "        # if show_tests and valid_code: print(\"\\t-lx \\in ker{hz} AND lz \\in ker{hx}: Pass\")\n",
    "\n",
    "        try:\n",
    "            assert mod2.rank(self.lx@self.lz.T %2)==self.K\n",
    "            if show_tests: print(\" -lx and lz anticommute: Pass\")\n",
    "        except AssertionError:\n",
    "            valid_code=False\n",
    "            print(\" -lx and lz anitcommute: Fail\")\n",
    "\n",
    "        # if show_tests and valid_code: print(\"\\t- lx and lz anitcommute: Pass\")\n",
    "\n",
    "        if show_tests and valid_code: print(f\" -{self.name} is a valid CSS code w/ params {code_label}\")\n",
    "\n",
    "        return valid_code\n",
    "\n"
   ]
  },
  {
   "cell_type": "code",
   "execution_count": null,
   "metadata": {},
   "outputs": [],
   "source": [
    "import numpy as np\n",
    "from ldpc import mod2\n",
    "from tqdm import tqdm\n",
    "\n",
    "def gf2_to_gf4(bin):\n",
    "    n=int(len(bin)/2)\n",
    "    gf4=np.zeros(n).astype(int)\n",
    "    for i in range(n):\n",
    "        if bin[i]==1 and bin[i+n]==0:\n",
    "            gf4[i]=1\n",
    "        elif bin[i]==0 and bin[i+n]==1:\n",
    "            gf4[i]=3\n",
    "        elif bin[i]==1 and bin[i+n]==1:\n",
    "            gf4[i]=2\n",
    "        else:\n",
    "            gf4[i]=0\n",
    "    return gf4\n",
    "\n",
    "\n",
    "class pauli_vector():\n",
    "\n",
    "    def __init__(self,input_vector):\n",
    "\n",
    "        if type(input_vector[0]) is str:\n",
    "            self.n = len(input_vector)\n",
    "            self.gf2 = np.zeros(2*self.n).astype(int)\n",
    "            for i,element in enumerate(input_vector):\n",
    "                if element == \"I\":\n",
    "                    self.gf2[i]=0\n",
    "                    self.gf2[i+self.n]=0\n",
    "                elif element == \"X\":\n",
    "                    self.gf2[i] = 1\n",
    "                    self.gf2[i+self.n] = 0\n",
    "                elif element == \"Y\":\n",
    "                    self.gf2[i] = 1\n",
    "                    self.gf2[i+self.n] = 1\n",
    "                elif element == \"Z\":\n",
    "                    self.gf2[i] = 0\n",
    "                    self.gf2[i+self.n] = 1\n",
    "\n",
    "        else:\n",
    "            self.gf2 = input_vector\n",
    "            try: assert len(self.gf2) % 2 == 0\n",
    "            except AssertionError: raise Exception(\"InputError: input string must have even length\")\n",
    "            self.n = len(self.gf2)//2\n",
    "\n",
    "    # for calculating the syndrome\n",
    "    def __rmul__(self,other):\n",
    "        try: assert type(other) is stab_code\n",
    "        except TypeError: raise Exception(\"Type Pauli vector must be multiplied by a `stab_code` object.\")\n",
    "        return ( (other.hx@self.gf2_z %2) + (other.hz@self.gf2_x %2) ) %2\n",
    "\n",
    "    @property\n",
    "    def pauli_string(self):\n",
    "        gf4_error =  gf2_to_gf4(self.gf2)\n",
    "        out_string = \"\"\n",
    "        for element in gf4_error:\n",
    "            if element == 0:\n",
    "                out_string += \"I\"\n",
    "            elif element == 1:\n",
    "                out_string += \"X\"\n",
    "            elif element == 2:\n",
    "                out_string += \"Y\"\n",
    "            elif element == 3:\n",
    "                out_string += \"Z\"\n",
    "\n",
    "        return out_string\n",
    "\n",
    "    @property\n",
    "    def gf2_x(self):\n",
    "        return self.gf2[:self.n]\n",
    "    \n",
    "    @property\n",
    "    def gf2_z(self):\n",
    "        return self.gf2[self.n:]\n",
    "\n",
    "class stab_code():\n",
    "\n",
    "    def __init__(self,hx=None,hz=None):\n",
    "  \n",
    "        if hz is None or hz is None:\n",
    "            self.hx=np.array([[]])\n",
    "            self.hz = np.array([[]])\n",
    "            self.N=np.nan\n",
    "            self.K=np.nan\n",
    "            self.lx=np.array([[]])\n",
    "            self.lz=np.array([[]])\n",
    "            self.D=np.nan\n",
    "\n",
    "        else:\n",
    "            self.hx=hx\n",
    "            self.hz=hz\n",
    "            self.init_code()\n",
    "\n",
    "        self.h=np.hstack([self.hx,self.hz])\n",
    "        self.l=np.hstack([self.lx,self.lz])\n",
    "\n",
    "    def init_code(self):\n",
    "\n",
    "        self.h=np.hstack([self.hx,self.hz])\n",
    "        self.N=self.hx.shape[1]\n",
    "        self.K=self.N-mod2.rank(self.h)\n",
    "        self.compute_logical_operators()\n",
    "        self.D=np.nan\n",
    "\n",
    "    def compute_logical_operators(self):\n",
    "        #compute logical operators\n",
    "        #Kernel H\n",
    "\n",
    "        ker_H=mod2.nullspace(np.hstack([self.hz,self.hx]))\n",
    "        image_HT=mod2.row_basis(np.hstack([self.hx,self.hz]))\n",
    "\n",
    "        log_stack=np.vstack([image_HT,ker_H])\n",
    "        pivots=mod2.row_echelon(log_stack.T)[3]\n",
    "        log_op_indices=[i for i in range(image_HT.shape[0],log_stack.shape[0]) if i in pivots]\n",
    "        self.l=log_stack[log_op_indices]\n",
    "        self.lx =self.l[:,0:self.N]\n",
    "        self.lz=self.l[:,self.N:2*self.N]\n",
    "\n",
    "        self.K=int(self.l.shape[0]/2)\n",
    "\n",
    "    def compute_code_distance(self,return_logicals=False):\n",
    "\n",
    "        if self.N>10:\n",
    "            print(\"Warning: computing a code distance of codes with N>10 will take a long time.\")\n",
    "\n",
    "        re,r,_,_=mod2.row_echelon(self.h)\n",
    "        stab_basis=re[0:r]\n",
    "        logical_stack=np.vstack([stab_basis,self.l])\n",
    "        all_logicals=mod2.row_span(logical_stack)\n",
    "        # np.argmin(np.sum(all_logicals,axis=1))\n",
    "        \n",
    "        d_min=self.N\n",
    "        min_indices=[]\n",
    "        min_logicals=[]\n",
    "        for i in tqdm(range(len(all_logicals))):\n",
    "            logical=all_logicals[i]\n",
    "            logical=gf2_to_gf4(logical)\n",
    "            temp=np.count_nonzero(logical)\n",
    "            if temp<d_min:\n",
    "                d_min=temp\n",
    "                min_indices=[i]\n",
    "                min_logicals=[logical]\n",
    "            elif temp==d_min:\n",
    "                min_indices.append(i)\n",
    "                min_logicals.append(logical)\n",
    "        \n",
    "        # d_min=np.min( np.sum(all_logicals,axis=1) )\n",
    "        self.D=d_min\n",
    "\n",
    "        # print(all_logicals)\n",
    "\n",
    "        if return_logicals:\n",
    "            return np.array(min_logicals)\n",
    "\n",
    "        return d_min\n",
    "\n",
    "    def test(self):\n",
    "        #check the logical operators are in the kernel of the pcm        \n",
    "        assert ((self.hx@self.lz.T %2 + self.hz@self.lx.T %2)%2).any()==0\n",
    "        assert mod2.rank((self.lx@self.lz.T%2 + self.lz@self.lx.T%2) %2)==self.l.shape[0]\n",
    "\n",
    "        self.compute_logical_operators()\n",
    "\n",
    "        #check commutativity relation (non CSS code)\n",
    "        assert (( (self.hz@self.hx.T %2) + (self.hx@self.hz.T %2) ) %2 ).any() == 0\n",
    "    \n",
    "        # #check the logical operators valid\n",
    "        assert ((self.hx@self.lz.T %2 + self.hz@self.lx.T %2)%2).any()==0\n",
    "        assert mod2.rank((self.lx@self.lz.T%2 + self.lz@self.lx.T%2) %2)==self.l.shape[0]\n",
    "\n",
    "    @property\n",
    "    def code_params(self):\n",
    "        return f\"[[{self.N},{self.K},{self.D}]]\"\n",
    "\n",
    "    @property\n",
    "    def pauli_table(self):\n",
    "        stab_out=\"\"\n",
    "        for i,row in enumerate(self.h):\n",
    "            gf4_stab=gf2_to_gf4(row)\n",
    "            # print(gf4_stab)\n",
    "            for j,element in enumerate(gf4_stab):\n",
    "                if element == 0:\n",
    "                    stab_out += \"I\"\n",
    "                elif element == 1:\n",
    "                    stab_out += \"X\"\n",
    "                elif element == 2:\n",
    "                    stab_out += \"Y\"\n",
    "                elif element == 3:\n",
    "                    stab_out += \"Z\"\n",
    "            \n",
    "            if i != (self.h.shape[0]-1): stab_out += \"\\n\"\n",
    "        return stab_out\n",
    "\n",
    "    def generate_y_edges(self):\n",
    "        m,n = self.hx.shape\n",
    "        y_edges = np.zeros((m,n)).astype(int)\n",
    "        for i in range(m):\n",
    "            for j in range(n):\n",
    "                if (self.hx[i,j] ==1) and (self.hz[i,j] == 1):\n",
    "                    y_edges[i,j] = 1\n",
    "                else:\n",
    "                    y_edges[i,j] = 0\n",
    "\n",
    "        return y_edges\n",
    "    \n",
    "    def generate_x_edges(self):\n",
    "        m,n = self.hx.shape\n",
    "        x_edges = np.zeros((m,n)).astype(int)\n",
    "        for i in range(m):\n",
    "            for j in range(n):\n",
    "                if (self.hx[i,j] ==1) and (self.hz[i,j] == 0):\n",
    "                    x_edges[i,j] = 1\n",
    "                else:\n",
    "                    x_edges[i,j] = 0\n",
    "\n",
    "        return x_edges\n",
    "    \n",
    "    def generate_z_edges(self):\n",
    "        m,n = self.hx.shape\n",
    "        z_edges = np.zeros((m,n)).astype(int)\n",
    "        for i in range(m):\n",
    "            for j in range(n):\n",
    "                if (self.hx[i,j] ==0) and (self.hz[i,j] == 1):\n",
    "                    z_edges[i,j] = 1\n",
    "                else:\n",
    "                    z_edges[i,j] = 0\n",
    "\n",
    "        return z_edges\n",
    "    \n",
    "\n",
    "    @property\n",
    "    def gf4_stabs(self):\n",
    "        out = []\n",
    "        for element in self.h:\n",
    "            out.append(gf2_to_gf4(element))\n",
    "        return np.vstack(out)"
   ]
  }
 ],
 "metadata": {
  "kernelspec": {
   "display_name": "qec",
   "language": "python",
   "name": "python3"
  },
  "language_info": {
   "codemirror_mode": {
    "name": "ipython",
    "version": 3
   },
   "file_extension": ".py",
   "mimetype": "text/x-python",
   "name": "python",
   "nbconvert_exporter": "python",
   "pygments_lexer": "ipython3",
   "version": "3.10.12"
  }
 },
 "nbformat": 4,
 "nbformat_minor": 2
}
