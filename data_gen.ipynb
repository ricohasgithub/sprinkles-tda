{
 "cells": [
  {
   "cell_type": "markdown",
   "metadata": {},
   "source": [
    "# Learning the shape of manifold from the code generated from celluation from that manifold"
   ]
  },
  {
   "cell_type": "markdown",
   "metadata": {},
   "source": [
    "## Data generation"
   ]
  },
  {
   "cell_type": "markdown",
   "metadata": {},
   "source": [
    "### 1. How to generate the stabilizer generators of a code and store them"
   ]
  },
  {
   "cell_type": "markdown",
   "metadata": {},
   "source": [
    "The stabilizer generators themselves are stored in two matrices $H_z$ and $H_x$, which operate over the field of $\\mathbb{F}_2$ "
   ]
  },
  {
   "cell_type": "markdown",
   "metadata": {},
   "source": [
    "So, the first step is to code up a class which constructs these matrices for the toric code"
   ]
  },
  {
   "cell_type": "code",
   "execution_count": 14,
   "metadata": {},
   "outputs": [],
   "source": [
    "from panqec.codes.surface_2d import Toric2DCode"
   ]
  },
  {
   "cell_type": "code",
   "execution_count": 15,
   "metadata": {},
   "outputs": [],
   "source": [
    "code = Toric2DCode(2) # takes in size as an argument"
   ]
  },
  {
   "cell_type": "code",
   "execution_count": 16,
   "metadata": {},
   "outputs": [
    {
     "data": {
      "text/plain": [
       "matrix([[1, 1, 0, 0, 1, 0, 1, 0],\n",
       "        [1, 1, 0, 0, 0, 1, 0, 1],\n",
       "        [0, 0, 1, 1, 1, 0, 1, 0],\n",
       "        [0, 0, 1, 1, 0, 1, 0, 1]], dtype=uint8)"
      ]
     },
     "execution_count": 16,
     "metadata": {},
     "output_type": "execute_result"
    }
   ],
   "source": [
    "code.Hx.todense() # this is the x parity check matrix"
   ]
  },
  {
   "cell_type": "code",
   "execution_count": 17,
   "metadata": {},
   "outputs": [
    {
     "data": {
      "text/plain": [
       "matrix([[1, 0, 1, 0, 1, 1, 0, 0],\n",
       "        [0, 1, 0, 1, 1, 1, 0, 0],\n",
       "        [1, 0, 1, 0, 0, 0, 1, 1],\n",
       "        [0, 1, 0, 1, 0, 0, 1, 1]], dtype=uint8)"
      ]
     },
     "execution_count": 17,
     "metadata": {},
     "output_type": "execute_result"
    }
   ],
   "source": [
    "code.Hz.todense() # this is the z parity check matrix "
   ]
  },
  {
   "cell_type": "code",
   "execution_count": 18,
   "metadata": {},
   "outputs": [
    {
     "data": {
      "text/plain": [
       "8"
      ]
     },
     "execution_count": 18,
     "metadata": {},
     "output_type": "execute_result"
    }
   ],
   "source": [
    "code.n # this is the number of qubits, i.e. the number of columns of Hx and Hz"
   ]
  },
  {
   "cell_type": "code",
   "execution_count": 19,
   "metadata": {},
   "outputs": [
    {
     "data": {
      "text/plain": [
       "8"
      ]
     },
     "execution_count": 19,
     "metadata": {},
     "output_type": "execute_result"
    }
   ],
   "source": [
    "code.n_stabilizers # this is the number of stabilizers, i.e. the number of rows of Hx and Hz"
   ]
  },
  {
   "cell_type": "code",
   "execution_count": 20,
   "metadata": {},
   "outputs": [
    {
     "data": {
      "text/plain": [
       "2"
      ]
     },
     "execution_count": 20,
     "metadata": {},
     "output_type": "execute_result"
    }
   ],
   "source": [
    "code.k # this is the number of logical qubits encoded, in this case 2, because the torus has two non-trivial homotopic classes"
   ]
  },
  {
   "cell_type": "code",
   "execution_count": 21,
   "metadata": {},
   "outputs": [
    {
     "data": {
      "text/plain": [
       "2"
      ]
     },
     "execution_count": 21,
     "metadata": {},
     "output_type": "execute_result"
    }
   ],
   "source": [
    "code.d # this is the distance, not really relevant here, but just for completeness"
   ]
  },
  {
   "cell_type": "markdown",
   "metadata": {},
   "source": [
    "So, essentially, we want to use the following two quantities, which coincides with the boundary maps $\\partial_1$ and $\\partial_2$"
   ]
  },
  {
   "cell_type": "markdown",
   "metadata": {},
   "source": [
    "$$ C_2 \\xrightarrow[]{\\partial_2} C_1 \\xrightarrow[]{\\partial_1}  C_0$$"
   ]
  },
  {
   "cell_type": "markdown",
   "metadata": {},
   "source": [
    "This is $\\partial_2$"
   ]
  },
  {
   "cell_type": "code",
   "execution_count": 22,
   "metadata": {},
   "outputs": [],
   "source": [
    "hx = code.Hx.toarray() "
   ]
  },
  {
   "cell_type": "markdown",
   "metadata": {},
   "source": [
    "and this is the transpose of $\\partial_1$"
   ]
  },
  {
   "cell_type": "code",
   "execution_count": 23,
   "metadata": {},
   "outputs": [],
   "source": [
    "hz = code.Hz.toarray() "
   ]
  },
  {
   "cell_type": "code",
   "execution_count": 24,
   "metadata": {},
   "outputs": [
    {
     "data": {
      "text/plain": [
       "array([[1, 1, 0, 0, 1, 0, 1, 0],\n",
       "       [1, 1, 0, 0, 0, 1, 0, 1],\n",
       "       [0, 0, 1, 1, 1, 0, 1, 0],\n",
       "       [0, 0, 1, 1, 0, 1, 0, 1]], dtype=uint8)"
      ]
     },
     "execution_count": 24,
     "metadata": {},
     "output_type": "execute_result"
    }
   ],
   "source": [
    "hx"
   ]
  },
  {
   "cell_type": "code",
   "execution_count": 25,
   "metadata": {},
   "outputs": [
    {
     "data": {
      "text/plain": [
       "array([[1, 0, 1, 0],\n",
       "       [0, 1, 0, 1],\n",
       "       [1, 0, 1, 0],\n",
       "       [0, 1, 0, 1],\n",
       "       [1, 1, 0, 0],\n",
       "       [1, 1, 0, 0],\n",
       "       [0, 0, 1, 1],\n",
       "       [0, 0, 1, 1]], dtype=uint8)"
      ]
     },
     "execution_count": 25,
     "metadata": {},
     "output_type": "execute_result"
    }
   ],
   "source": [
    "hz.T"
   ]
  },
  {
   "cell_type": "markdown",
   "metadata": {},
   "source": [
    "they are both written in a particular basis for the chain complex, and from basic linear algebra, this basis has dimension 8, which is exactly the number of qubits, and the boundary maps induce a subspace, that we would call the \"codespace\", on which we perform error correction"
   ]
  },
  {
   "cell_type": "markdown",
   "metadata": {},
   "source": [
    "So, I guess this is a good starting point for generating the boundary maps. We can always choose different bases to generate different boundary maps that would give us the same \"codespace\". The topology of the \"codespace\" should be independent of the choice of basis, which is a good sanity check for our procedure, or could be used for just generating more data."
   ]
  },
  {
   "cell_type": "markdown",
   "metadata": {},
   "source": [
    "### 2. How to get from the Hx and Hz matrices to a persistent diagram? "
   ]
  },
  {
   "cell_type": "markdown",
   "metadata": {},
   "source": [
    "My current take is to interpret the matrices as hypergraphs, with a built-in simplicial complex structure, on which we will be able to perform a hypergraph Laplacian. The hypergraph Laplacian will be a unambiguous way to build a filtration to get our TDA going."
   ]
  },
  {
   "cell_type": "markdown",
   "metadata": {},
   "source": [
    "### 3. Using topological sort to generate a simplicial stream from a chain complex"
   ]
  },
  {
   "cell_type": "markdown",
   "metadata": {},
   "source": [
    "### 4. Doing TDA on a simplicial stream "
   ]
  },
  {
   "cell_type": "code",
   "execution_count": 2,
   "metadata": {},
   "outputs": [],
   "source": [
    "import gudhi as gd"
   ]
  },
  {
   "cell_type": "code",
   "execution_count": 3,
   "metadata": {},
   "outputs": [],
   "source": [
    "# Create a Simplex Tree\n",
    "st = gd.SimplexTree()"
   ]
  },
  {
   "cell_type": "code",
   "execution_count": 4,
   "metadata": {},
   "outputs": [
    {
     "data": {
      "text/plain": [
       "True"
      ]
     },
     "execution_count": 4,
     "metadata": {},
     "output_type": "execute_result"
    }
   ],
   "source": [
    "# Assume simplicial_stream is your input simplicial stream.\n",
    "# Here, you should add simplices to the simplex tree.\n",
    "# For example, adding some simplices manually:\n",
    "st.insert([0])\n",
    "st.insert([1])\n",
    "st.insert([0, 1])\n",
    "st.insert([2])\n",
    "st.insert([1, 2])\n",
    "st.insert([0, 2])\n",
    "st.insert([0, 1, 2])"
   ]
  },
  {
   "cell_type": "code",
   "execution_count": 5,
   "metadata": {},
   "outputs": [
    {
     "data": {
      "text/plain": [
       "2"
      ]
     },
     "execution_count": 5,
     "metadata": {},
     "output_type": "execute_result"
    }
   ],
   "source": [
    "st.dimension()"
   ]
  },
  {
   "cell_type": "code",
   "execution_count": 6,
   "metadata": {},
   "outputs": [
    {
     "data": {
      "text/plain": [
       "7"
      ]
     },
     "execution_count": 6,
     "metadata": {},
     "output_type": "execute_result"
    }
   ],
   "source": [
    "st.num_simplices()"
   ]
  },
  {
   "cell_type": "code",
   "execution_count": 7,
   "metadata": {},
   "outputs": [
    {
     "data": {
      "text/plain": [
       "3"
      ]
     },
     "execution_count": 7,
     "metadata": {},
     "output_type": "execute_result"
    }
   ],
   "source": [
    "st.num_vertices()"
   ]
  },
  {
   "cell_type": "code",
   "execution_count": 8,
   "metadata": {},
   "outputs": [
    {
     "data": {
      "text/plain": [
       "<Axes: title={'center': 'Persistence diagram'}, xlabel='Birth', ylabel='Death'>"
      ]
     },
     "execution_count": 8,
     "metadata": {},
     "output_type": "execute_result"
    },
    {
     "data": {
      "image/png": "[encoded data removed]",
      "text/plain": [
       "<Figure size 640x480 with 1 Axes>"
      ]
     },
     "metadata": {},
     "output_type": "display_data"
    }
   ],
   "source": [
    "# Insert your simplicial stream here\n",
    "# for simplex in simplicial_stream:\n",
    "#     st.insert(simplex)\n",
    "\n",
    "# Compute persistence\n",
    "diag = st.persistence()\n",
    "\n",
    "# Plotting the persistence diagram\n",
    "gd.plot_persistence_diagram(diag)"
   ]
  },
  {
   "cell_type": "code",
   "execution_count": 9,
   "metadata": {},
   "outputs": [
    {
     "data": {
      "text/plain": [
       "[1, 0]"
      ]
     },
     "execution_count": 9,
     "metadata": {},
     "output_type": "execute_result"
    }
   ],
   "source": [
    "st.betti_numbers()"
   ]
  },
  {
   "cell_type": "code",
   "execution_count": 40,
   "metadata": {},
   "outputs": [],
   "source": [
    "def build_simplex_tree_from_boundary_matrices(boundary_matrices):\n",
    "    st = gd.SimplexTree()\n",
    "\n",
    "    # Add vertices\n",
    "    for vertex in range(len(boundary_matrices[0][0])):\n",
    "        st.insert([vertex])\n",
    "\n",
    "    # Add higher dimensional simplices\n",
    "    for dim, boundary_matrix in enumerate(boundary_matrices):\n",
    "        for simplex_index, row in enumerate(boundary_matrix):\n",
    "            # Create a simplex as a list of its vertices\n",
    "            simplex = [vertex for vertex, entry in enumerate(row) if entry != 0]\n",
    "            simplex.append(simplex_index + len(row))  # Add the current simplex vertex\n",
    "            st.insert(simplex, filtration=dim)\n",
    "    print(simplex)\n",
    "    return st"
   ]
  },
  {
   "cell_type": "code",
   "execution_count": 41,
   "metadata": {},
   "outputs": [
    {
     "name": "stdout",
     "output_type": "stream",
     "text": [
      "[2, 3, 11]\n",
      "[(2, (1.0, inf)), (2, (1.0, inf)), (1, (0.0, inf)), (0, (0.0, inf))]\n"
     ]
    },
    {
     "data": {
      "text/plain": [
       "<Axes: title={'center': 'Persistence diagram'}, xlabel='Birth', ylabel='Death'>"
      ]
     },
     "execution_count": 41,
     "metadata": {},
     "output_type": "execute_result"
    },
    {
     "data": {
      "image/png": "[encoded data removed]",
      "text/plain": [
       "<Figure size 640x480 with 1 Axes>"
      ]
     },
     "metadata": {},
     "output_type": "display_data"
    }
   ],
   "source": [
    "# Example boundary matrices\n",
    "boundary_matrices = [\n",
    "    # Boundary matrix for 1-simplices (edges)\n",
    "    hx,\n",
    "    # Boundary matrix for 2-simplices (triangles)\n",
    "    hz.T\n",
    "    # Add more matrices for higher dimensions if needed\n",
    "]\n",
    "\n",
    "# Build the simplex tree\n",
    "simplex_tree = build_simplex_tree_from_boundary_matrices(boundary_matrices)\n",
    "\n",
    "# Compute and print persistence\n",
    "diag = simplex_tree.persistence()\n",
    "print(diag)\n",
    "\n",
    "# Optionally, plot the persistence diagram\n",
    "gd.plot_persistence_diagram(diag)"
   ]
  },
  {
   "cell_type": "code",
   "execution_count": 36,
   "metadata": {},
   "outputs": [],
   "source": [
    "simplex_gen = simplex_tree.get_simplices()"
   ]
  },
  {
   "cell_type": "code",
   "execution_count": 37,
   "metadata": {},
   "outputs": [
    {
     "data": {
      "text/plain": [
       "([0, 1, 4, 6, 8], 0.0)"
      ]
     },
     "execution_count": 37,
     "metadata": {},
     "output_type": "execute_result"
    }
   ],
   "source": [
    "next(simplex_gen)"
   ]
  },
  {
   "cell_type": "code",
   "execution_count": 38,
   "metadata": {},
   "outputs": [
    {
     "data": {
      "text/plain": [
       "([0, 1, 4, 6], 0.0)"
      ]
     },
     "execution_count": 38,
     "metadata": {},
     "output_type": "execute_result"
    }
   ],
   "source": [
    "next(simplex_gen)"
   ]
  },
  {
   "cell_type": "code",
   "execution_count": 39,
   "metadata": {},
   "outputs": [
    {
     "data": {
      "text/plain": [
       "([0, 1, 4, 8], 0.0)"
      ]
     },
     "execution_count": 39,
     "metadata": {},
     "output_type": "execute_result"
    }
   ],
   "source": [
    "next(simplex_gen)"
   ]
  },
  {
   "cell_type": "code",
   "execution_count": 27,
   "metadata": {},
   "outputs": [
    {
     "data": {
      "text/plain": [
       "[1, 1, 2, 0]"
      ]
     },
     "execution_count": 27,
     "metadata": {},
     "output_type": "execute_result"
    }
   ],
   "source": [
    "simplex_tree.betti_numbers()"
   ]
  },
  {
   "cell_type": "code",
   "execution_count": 28,
   "metadata": {},
   "outputs": [
    {
     "ename": "TypeError",
     "evalue": "persistent_betti_numbers() takes exactly 2 positional arguments (0 given)",
     "output_type": "error",
     "traceback": [
      "\u001b[0;31m---------------------------------------------------------------------------\u001b[0m",
      "\u001b[0;31mTypeError\u001b[0m                                 Traceback (most recent call last)",
      "Cell \u001b[0;32mIn[28], line 1\u001b[0m\n\u001b[0;32m----> 1\u001b[0m \u001b[43msimplex_tree\u001b[49m\u001b[38;5;241;43m.\u001b[39;49m\u001b[43mpersistent_betti_numbers\u001b[49m\u001b[43m(\u001b[49m\u001b[43m)\u001b[49m\n",
      "File \u001b[0;32msimplex_tree.pyx:677\u001b[0m, in \u001b[0;36mgudhi.simplex_tree.SimplexTree.persistent_betti_numbers\u001b[0;34m()\u001b[0m\n",
      "\u001b[0;31mTypeError\u001b[0m: persistent_betti_numbers() takes exactly 2 positional arguments (0 given)"
     ]
    }
   ],
   "source": [
    "simplex_tree.persistent_betti_numbers()"
   ]
  },
  {
   "cell_type": "code",
   "execution_count": 46,
   "metadata": {},
   "outputs": [
    {
     "data": {
      "text/plain": [
       "[1, 0, 1]"
      ]
     },
     "execution_count": 46,
     "metadata": {},
     "output_type": "execute_result"
    }
   ],
   "source": [
    "boundary_matrices[0][2]"
   ]
  },
  {
   "cell_type": "code",
   "execution_count": 43,
   "metadata": {},
   "outputs": [
    {
     "name": "stdout",
     "output_type": "stream",
     "text": [
      "[0, 2, 4]\n",
      "[(1, (0.0, inf)), (0, (0.0, inf))]\n"
     ]
    },
    {
     "data": {
      "text/plain": [
       "<Axes: title={'center': 'Persistence diagram'}, xlabel='Birth', ylabel='Death'>"
      ]
     },
     "execution_count": 43,
     "metadata": {},
     "output_type": "execute_result"
    },
    {
     "data": {
      "image/png": "[encoded data removed]",
      "text/plain": [
       "<Figure size 640x480 with 1 Axes>"
      ]
     },
     "metadata": {},
     "output_type": "display_data"
    }
   ],
   "source": [
    "# Example boundary matrices\n",
    "boundary_matrices = [\n",
    "    # Boundary matrix for 1-simplices (edges)\n",
    "     [[1, 1, 0], [0, 1, 1], [1, 0, 1]],\n",
    "    # Boundary matrix for 2-simplices (triangles)\n",
    "    [[1, 1, 0], [1, 0, 1]]\n",
    "    # Add more matrices for higher dimensions if needed\n",
    "]\n",
    "\n",
    "# Build the simplex tree\n",
    "simplex_tree = build_simplex_tree_from_boundary_matrices(boundary_matrices)\n",
    "\n",
    "# Compute and print persistence\n",
    "diag = simplex_tree.persistence()\n",
    "print(diag)\n",
    "\n",
    "# Optionally, plot the persistence diagram\n",
    "gd.plot_persistence_diagram(diag)"
   ]
  },
  {
   "cell_type": "code",
   "execution_count": 12,
   "metadata": {},
   "outputs": [
    {
     "data": {
      "text/plain": [
       "[1, 1]"
      ]
     },
     "execution_count": 12,
     "metadata": {},
     "output_type": "execute_result"
    }
   ],
   "source": [
    "simplex_tree.betti_numbers()"
   ]
  },
  {
   "cell_type": "code",
   "execution_count": 1,
   "metadata": {},
   "outputs": [],
   "source": [
    "import numpy as np\n",
    "from ldpc import mod2\n",
    "from ldpc.alist import save_alist\n",
    "#from ldpc.code_util import compute_code_distance\n",
    "#from bposd import stab"
   ]
  },
  {
   "cell_type": "code",
   "execution_count": 1,
   "metadata": {},
   "outputs": [
    {
     "name": "stdout",
     "output_type": "stream",
     "text": [
      "Value 1\n",
      "Method 1 called with attributes: Value 1 and Value 2\n",
      "New Value\n"
     ]
    }
   ],
   "source": [
    "# Define a class\n",
    "class DataGen:\n",
    "    # Constructor (initialize the object)\n",
    "    def __init__(self, attribute1, attribute2):\n",
    "        self.attribute1 = attribute1\n",
    "        self.attribute2 = attribute2\n",
    "\n",
    "    # Define methods (functions) for the class\n",
    "    def method1(self):\n",
    "        return f\"Method 1 called with attributes: {self.attribute1} and {self.attribute2}\"\n",
    "\n",
    "    def method2(self, new_value):\n",
    "        self.attribute1 = new_value\n",
    "\n",
    "# Create an instance of the class\n",
    "obj = MyClass(\"Value 1\", \"Value 2\")\n",
    "\n",
    "# Access attributes and call methods\n",
    "print(obj.attribute1)  # Access an attribute\n",
    "print(obj.method1())   # Call a method\n",
    "\n",
    "# Modify attributes\n",
    "obj.method2(\"New Value\")\n",
    "print(obj.attribute1)  # Attribute updated\n",
    "\n",
    "# Create another instance of the class\n",
    "obj2 = MyClass(\"Another Value\", \"Another Value 2\")"
   ]
  },
  {
   "cell_type": "code",
   "execution_count": null,
   "metadata": {},
   "outputs": [],
   "source": [
    "class css_code():\n",
    "\n",
    "    def __init__(self,hx=np.array([[]]),hz=np.array([[]]), name=\"<Unnamed CSS code>\"):\n",
    "\n",
    "        self.hx=hx #hx pcm\n",
    "        self.hz=hz #hz pcm\n",
    "\n",
    "        self.lx=np.array([[]]) #x logicals\n",
    "        self.lz=np.array([[]]) #z logicals\n",
    "\n",
    "        self.N=np.nan #block length\n",
    "        self.K=np.nan #code dimension\n",
    "        self.D=code_distance #code distance\n",
    "        self.L=np.nan #max column weight\n",
    "        self.Q=np.nan #max row weight\n",
    "\n",
    "        _,nx=self.hx.shape\n",
    "        _,nz=self.hz.shape\n",
    "        try:\n",
    "            assert nx==nz\n",
    "        except AssertionError:\n",
    "            raise Exception(\"Error: hx and hz matrices must have equal numbers of columns!\")\n",
    "\n",
    "        if nx!=0:\n",
    "            self.compute_dimension()\n",
    "            self.compute_ldpc_params()\n",
    "            self.compute_logicals()\n",
    "\n",
    "        self.name=name\n",
    "\n",
    "    def compute_dimension(self):\n",
    "\n",
    "        self.N=self.hx.shape[1]\n",
    "        assert self.N == self.hz.shape[1], \"Code block length (N) inconsistent!\"\n",
    "\n",
    "        self.K=self.N-mod2.rank(self.hx)-mod2.rank(self.hz)\n",
    "        return self.K\n",
    "\n",
    "    def compute_ldpc_params(self):\n",
    "\n",
    "        #column weights\n",
    "        hx_l=np.max(np.sum(self.hx,axis=0))\n",
    "        hz_l=np.max(np.sum(self.hz,axis=0))\n",
    "        self.L=np.max([hx_l,hz_l]).astype(int)\n",
    "\n",
    "        #row weights\n",
    "        hx_q=np.max(np.sum(self.hx,axis=1))\n",
    "        hz_q=np.max(np.sum(self.hz,axis=1))\n",
    "        self.Q=np.max([hx_q,hz_q]).astype(int)\n",
    "\n",
    "    def save_sparse(self, code_name):\n",
    "\n",
    "        self.code_name=code_name\n",
    "\n",
    "        hx=self.hx\n",
    "        hz=self.hz\n",
    "        save_alist(f\"{code_name}_hx.alist\",hx)\n",
    "        save_alist(f\"{code_name}_hz.alist\",hz)\n",
    "\n",
    "        lx=self.lx\n",
    "        lz=self.lz\n",
    "        save_alist(f\"{code_name}_lx.alist\",lx)\n",
    "        save_alist(f\"{code_name}_lz.alist\",lz)\n",
    "\n",
    "    def to_stab_code(self):\n",
    "\n",
    "        hx=np.vstack([np.zeros(self.hz.shape,dtype=int),self.hx])\n",
    "        hz=np.vstack([self.hz,np.zeros(self.hx.shape,dtype=int)])\n",
    "        return stab.stab_code(hx,hz)\n",
    "\n",
    "    @property\n",
    "    def h(self):\n",
    "        hx=np.vstack([np.zeros(self.hz.shape,dtype=int),self.hx])\n",
    "        hz=np.vstack([self.hz,np.zeros(self.hx.shape,dtype=int)])\n",
    "        return np.hstack([hx,hz])\n",
    "\n",
    "    @property\n",
    "    def l(self):\n",
    "        lx=np.vstack([np.zeros(self.lz.shape,dtype=int),self.lx])\n",
    "        lz=np.vstack([self.lz,np.zeros(self.lx.shape,dtype=int)])\n",
    "        return np.hstack([lx,lz])\n",
    "\n",
    "\n",
    "    def compute_logicals(self):\n",
    "\n",
    "        def compute_lz(hx,hz):\n",
    "            #lz logical operators\n",
    "            #lz\\in ker{hx} AND \\notin Im(Hz.T)\n",
    "\n",
    "            ker_hx=mod2.nullspace(hx) #compute the kernel basis of hx\n",
    "            im_hzT=mod2.row_basis(hz) #compute the image basis of hz.T\n",
    "\n",
    "            #in the below we row reduce to find vectors in kx that are not in the image of hz.T.\n",
    "            log_stack=np.vstack([im_hzT,ker_hx])\n",
    "            pivots=mod2.row_echelon(log_stack.T)[3]\n",
    "            log_op_indices=[i for i in range(im_hzT.shape[0],log_stack.shape[0]) if i in pivots]\n",
    "            log_ops=log_stack[log_op_indices]\n",
    "            return log_ops\n",
    "\n",
    "        if self.K==np.nan: self.compute_dimension()\n",
    "        self.lx=compute_lz(self.hz,self.hx)\n",
    "        self.lz=compute_lz(self.hx,self.hz)\n",
    "\n",
    "        return self.lx,self.lz\n",
    "\n",
    "    def canonical_logicals(self):\n",
    "        temp=mod2.inverse(self.lx@self.lz.T %2)\n",
    "        self.lx=temp@self.lx %2\n",
    "\n",
    "\n",
    "    @property\n",
    "    def code_params(self):\n",
    "        try: self.N\n",
    "        except AttributeError: self.N=np.nan\n",
    "        try: self.K\n",
    "        except AttributeError: self.K=np.nan\n",
    "        try: self.D\n",
    "        except AttributeError: self.D=np.nan\n",
    "        try: self.L\n",
    "        except AttributeError: self.L=np.nan\n",
    "        try: self.Q\n",
    "        except AttributeError: self.Q=np.nan\n",
    "\n",
    "        return f\"({self.L},{self.Q})-[[{self.N},{self.K},{self.D}]]\"\n",
    "\n",
    "    def test(self, show_tests=True):\n",
    "        valid_code=True\n",
    "\n",
    "        if self.K==np.nan: self.compute_dimension()\n",
    "        self.compute_ldpc_params()\n",
    "\n",
    "        code_label=f\"{self.code_params}\"\n",
    "\n",
    "        if show_tests: print(f\"{self.name}, {code_label}\")\n",
    "\n",
    "        try:\n",
    "            assert self.N==self.hz.shape[1]==self.lz.shape[1]==self.lx.shape[1]\n",
    "            assert self.K==self.lz.shape[0]==self.lx.shape[0]\n",
    "            if show_tests: print(\" -Block dimensions: Pass\")\n",
    "        except AssertionError:\n",
    "            valid_code=False\n",
    "            print(\" -Block dimensions incorrect\")\n",
    "\n",
    "        try:\n",
    "            assert not (self.hz@self.hx.T %2).any()\n",
    "            if show_tests: print(\" -PCMs commute hz@hx.T==0: Pass\")\n",
    "        except AssertionError:\n",
    "            valid_code=False\n",
    "            print(\" -PCMs commute hz@hx.T==0: Fail\")\n",
    "\n",
    "        try:\n",
    "            assert not (self.hx@self.hz.T %2).any()\n",
    "            if show_tests: print(\" -PCMs commute hx@hz.T==0: Pass\")\n",
    "        except AssertionError:\n",
    "            valid_code=False\n",
    "            print(\" -PCMs commute hx@hz.T==0: Fail\")\n",
    "\n",
    "        # if show_tests and valid_code: print(\"\\t-PCMs commute hx@hz.T == hz@hx.T ==0: Pass\")\n",
    "\n",
    "        try:\n",
    "            assert not (self.hz@self.lx.T %2).any()\n",
    "        except AssertionError:\n",
    "            valid_code=False\n",
    "            print(\" -lx \\in ker{hz} AND lz \\in ker{hx}: Fail\")\n",
    "\n",
    "\n",
    "        try:\n",
    "            assert not (self.hx@self.lz.T %2).any()\n",
    "            if show_tests: print(\" -lx \\in ker{hz} AND lz \\in ker{hx}: Pass\")\n",
    "        except AssertionError:\n",
    "            valid_code=False\n",
    "            print(\" -lx \\in ker{hz} AND lz \\in ker{hx}: Fail\")\n",
    "\n",
    "\n",
    "        # if show_tests and valid_code: print(\"\\t-lx \\in ker{hz} AND lz \\in ker{hx}: Pass\")\n",
    "\n",
    "        try:\n",
    "            assert mod2.rank(self.lx@self.lz.T %2)==self.K\n",
    "            if show_tests: print(\" -lx and lz anticommute: Pass\")\n",
    "        except AssertionError:\n",
    "            valid_code=False\n",
    "            print(\" -lx and lz anitcommute: Fail\")\n",
    "\n",
    "        # if show_tests and valid_code: print(\"\\t- lx and lz anitcommute: Pass\")\n",
    "\n",
    "        if show_tests and valid_code: print(f\" -{self.name} is a valid CSS code w/ params {code_label}\")\n",
    "\n",
    "        return valid_code\n",
    "\n"
   ]
  },
  {
   "cell_type": "code",
   "execution_count": null,
   "metadata": {},
   "outputs": [],
   "source": [
    "import numpy as np\n",
    "from ldpc import mod2\n",
    "from tqdm import tqdm\n",
    "\n",
    "def gf2_to_gf4(bin):\n",
    "    n=int(len(bin)/2)\n",
    "    gf4=np.zeros(n).astype(int)\n",
    "    for i in range(n):\n",
    "        if bin[i]==1 and bin[i+n]==0:\n",
    "            gf4[i]=1\n",
    "        elif bin[i]==0 and bin[i+n]==1:\n",
    "            gf4[i]=3\n",
    "        elif bin[i]==1 and bin[i+n]==1:\n",
    "            gf4[i]=2\n",
    "        else:\n",
    "            gf4[i]=0\n",
    "    return gf4\n",
    "\n",
    "\n",
    "class pauli_vector():\n",
    "\n",
    "    def __init__(self,input_vector):\n",
    "\n",
    "        if type(input_vector[0]) is str:\n",
    "            self.n = len(input_vector)\n",
    "            self.gf2 = np.zeros(2*self.n).astype(int)\n",
    "            for i,element in enumerate(input_vector):\n",
    "                if element == \"I\":\n",
    "                    self.gf2[i]=0\n",
    "                    self.gf2[i+self.n]=0\n",
    "                elif element == \"X\":\n",
    "                    self.gf2[i] = 1\n",
    "                    self.gf2[i+self.n] = 0\n",
    "                elif element == \"Y\":\n",
    "                    self.gf2[i] = 1\n",
    "                    self.gf2[i+self.n] = 1\n",
    "                elif element == \"Z\":\n",
    "                    self.gf2[i] = 0\n",
    "                    self.gf2[i+self.n] = 1\n",
    "\n",
    "        else:\n",
    "            self.gf2 = input_vector\n",
    "            try: assert len(self.gf2) % 2 == 0\n",
    "            except AssertionError: raise Exception(\"InputError: input string must have even length\")\n",
    "            self.n = len(self.gf2)//2\n",
    "\n",
    "    # for calculating the syndrome\n",
    "    def __rmul__(self,other):\n",
    "        try: assert type(other) is stab_code\n",
    "        except TypeError: raise Exception(\"Type Pauli vector must be multiplied by a `stab_code` object.\")\n",
    "        return ( (other.hx@self.gf2_z %2) + (other.hz@self.gf2_x %2) ) %2\n",
    "\n",
    "    @property\n",
    "    def pauli_string(self):\n",
    "        gf4_error =  gf2_to_gf4(self.gf2)\n",
    "        out_string = \"\"\n",
    "        for element in gf4_error:\n",
    "            if element == 0:\n",
    "                out_string += \"I\"\n",
    "            elif element == 1:\n",
    "                out_string += \"X\"\n",
    "            elif element == 2:\n",
    "                out_string += \"Y\"\n",
    "            elif element == 3:\n",
    "                out_string += \"Z\"\n",
    "\n",
    "        return out_string\n",
    "\n",
    "    @property\n",
    "    def gf2_x(self):\n",
    "        return self.gf2[:self.n]\n",
    "    \n",
    "    @property\n",
    "    def gf2_z(self):\n",
    "        return self.gf2[self.n:]\n",
    "\n",
    "class stab_code():\n",
    "\n",
    "    def __init__(self,hx=None,hz=None):\n",
    "  \n",
    "        if hz is None or hz is None:\n",
    "            self.hx=np.array([[]])\n",
    "            self.hz = np.array([[]])\n",
    "            self.N=np.nan\n",
    "            self.K=np.nan\n",
    "            self.lx=np.array([[]])\n",
    "            self.lz=np.array([[]])\n",
    "            self.D=np.nan\n",
    "\n",
    "        else:\n",
    "            self.hx=hx\n",
    "            self.hz=hz\n",
    "            self.init_code()\n",
    "\n",
    "        self.h=np.hstack([self.hx,self.hz])\n",
    "        self.l=np.hstack([self.lx,self.lz])\n",
    "\n",
    "    def init_code(self):\n",
    "\n",
    "        self.h=np.hstack([self.hx,self.hz])\n",
    "        self.N=self.hx.shape[1]\n",
    "        self.K=self.N-mod2.rank(self.h)\n",
    "        self.compute_logical_operators()\n",
    "        self.D=np.nan\n",
    "\n",
    "    def compute_logical_operators(self):\n",
    "        #compute logical operators\n",
    "        #Kernel H\n",
    "\n",
    "        ker_H=mod2.nullspace(np.hstack([self.hz,self.hx]))\n",
    "        image_HT=mod2.row_basis(np.hstack([self.hx,self.hz]))\n",
    "\n",
    "        log_stack=np.vstack([image_HT,ker_H])\n",
    "        pivots=mod2.row_echelon(log_stack.T)[3]\n",
    "        log_op_indices=[i for i in range(image_HT.shape[0],log_stack.shape[0]) if i in pivots]\n",
    "        self.l=log_stack[log_op_indices]\n",
    "        self.lx =self.l[:,0:self.N]\n",
    "        self.lz=self.l[:,self.N:2*self.N]\n",
    "\n",
    "        self.K=int(self.l.shape[0]/2)\n",
    "\n",
    "    def compute_code_distance(self,return_logicals=False):\n",
    "\n",
    "        if self.N>10:\n",
    "            print(\"Warning: computing a code distance of codes with N>10 will take a long time.\")\n",
    "\n",
    "        re,r,_,_=mod2.row_echelon(self.h)\n",
    "        stab_basis=re[0:r]\n",
    "        logical_stack=np.vstack([stab_basis,self.l])\n",
    "        all_logicals=mod2.row_span(logical_stack)\n",
    "        # np.argmin(np.sum(all_logicals,axis=1))\n",
    "        \n",
    "        d_min=self.N\n",
    "        min_indices=[]\n",
    "        min_logicals=[]\n",
    "        for i in tqdm(range(len(all_logicals))):\n",
    "            logical=all_logicals[i]\n",
    "            logical=gf2_to_gf4(logical)\n",
    "            temp=np.count_nonzero(logical)\n",
    "            if temp<d_min:\n",
    "                d_min=temp\n",
    "                min_indices=[i]\n",
    "                min_logicals=[logical]\n",
    "            elif temp==d_min:\n",
    "                min_indices.append(i)\n",
    "                min_logicals.append(logical)\n",
    "        \n",
    "        # d_min=np.min( np.sum(all_logicals,axis=1) )\n",
    "        self.D=d_min\n",
    "\n",
    "        # print(all_logicals)\n",
    "\n",
    "        if return_logicals:\n",
    "            return np.array(min_logicals)\n",
    "\n",
    "        return d_min\n",
    "\n",
    "    def test(self):\n",
    "        #check the logical operators are in the kernel of the pcm        \n",
    "        assert ((self.hx@self.lz.T %2 + self.hz@self.lx.T %2)%2).any()==0\n",
    "        assert mod2.rank((self.lx@self.lz.T%2 + self.lz@self.lx.T%2) %2)==self.l.shape[0]\n",
    "\n",
    "        self.compute_logical_operators()\n",
    "\n",
    "        #check commutativity relation (non CSS code)\n",
    "        assert (( (self.hz@self.hx.T %2) + (self.hx@self.hz.T %2) ) %2 ).any() == 0\n",
    "    \n",
    "        # #check the logical operators valid\n",
    "        assert ((self.hx@self.lz.T %2 + self.hz@self.lx.T %2)%2).any()==0\n",
    "        assert mod2.rank((self.lx@self.lz.T%2 + self.lz@self.lx.T%2) %2)==self.l.shape[0]\n",
    "\n",
    "    def generate_y_edges(self):\n",
    "        m,n = self.hx.shape\n",
    "        y_edges = np.zeros((m,n)).astype(int)\n",
    "        for i in range(m):\n",
    "            for j in range(n):\n",
    "                if (self.hx[i,j] ==1) and (self.hz[i,j] == 1):\n",
    "                    y_edges[i,j] = 1\n",
    "                else:\n",
    "                    y_edges[i,j] = 0\n",
    "\n",
    "        return y_edges\n",
    "    \n",
    "    def generate_x_edges(self):\n",
    "        m,n = self.hx.shape\n",
    "        x_edges = np.zeros((m,n)).astype(int)\n",
    "        for i in range(m):\n",
    "            for j in range(n):\n",
    "                if (self.hx[i,j] ==1) and (self.hz[i,j] == 0):\n",
    "                    x_edges[i,j] = 1\n",
    "                else:\n",
    "                    x_edges[i,j] = 0\n",
    "\n",
    "        return x_edges\n",
    "    \n",
    "    def generate_z_edges(self):\n",
    "        m,n = self.hx.shape\n",
    "        z_edges = np.zeros((m,n)).astype(int)\n",
    "        for i in range(m):\n",
    "            for j in range(n):\n",
    "                if (self.hx[i,j] ==0) and (self.hz[i,j] == 1):\n",
    "                    z_edges[i,j] = 1\n",
    "                else:\n",
    "                    z_edges[i,j] = 0\n",
    "\n",
    "        return z_edges\n",
    "    \n",
    "\n",
    "    @property\n",
    "    def gf4_stabs(self):\n",
    "        out = []\n",
    "        for element in self.h:\n",
    "            out.append(gf2_to_gf4(element))\n",
    "        return np.vstack(out)"
   ]
  },
  {
   "cell_type": "code",
   "execution_count": null,
   "metadata": {},
   "outputs": [],
   "source": [
    "\n",
    "import random\n",
    "from copy import deepcopy\n",
    "from collections import defaultdict\n",
    "\n",
    "import numpy as np\n",
    "import gudhi\n",
    "\n",
    "# Hx, m x n: maps from faces to edges\n",
    "# Hz, m x n: maps from vertices to edges\n",
    "\n",
    "def is_zero(vector):\n",
    "    return np.all(vector == 0)\n",
    "\n",
    "class SampleQueue:\n",
    "\n",
    "    def __init__(self, Hx, Hz_t):\n",
    "\n",
    "        # Hx: m x n, Hz_t: n x m\n",
    "        self.m, self.n = Hx.shape[0], Hz_t.shape[0]\n",
    "\n",
    "        for c in range(self.n):\n",
    "            if is_zero(Hx[:, c]):\n",
    "                print(\"modify\")\n",
    "                # e_c c-th basis vector in R^n\n",
    "                ec = np.eye(self.n)[c]\n",
    "                Hx = np.vstack(Hx, ec)\n",
    "        \n",
    "        self.Hz_t = Hz_t\n",
    "        self.Hx = Hx\n",
    "        self.unsampled_2_simplices = list(range(0, self.m))\n",
    "\n",
    "    def is_empty(self):\n",
    "        return len(self.unsampled_2_simplices) == 0\n",
    "\n",
    "    def sample(self):\n",
    "\n",
    "        # Uniformly sample a random 2-simplex that hasn't already been sampled\n",
    "        r_sigma = random.choice(self.unsampled_2_simplices)\n",
    "        sigma = self.Hx[r_sigma]\n",
    "\n",
    "        # All dependencies of sigma has already been sampled, so we can return it directly\n",
    "        if is_zero(sigma):\n",
    "            self.unsampled_2_simplices.remove(r_sigma)\n",
    "            return (2, r_sigma)\n",
    "        \n",
    "        # Uniformly sample a random 1-simplex face of sigma\n",
    "        tau_indices = list(np.where(sigma == 1)[0])\n",
    "        r_tau = np.random.choice(tau_indices)\n",
    "        tau = self.Hz_t[r_tau]\n",
    "\n",
    "        # All dependencies of tau have already been sampled, so we can return it directly\n",
    "        if is_zero(tau):\n",
    "            # Set column in Hx corresponding to tau to 0\n",
    "            self.Hx[:, r_tau] = 0\n",
    "            return (1, r_tau)\n",
    "        \n",
    "        # Finally, return 1 unsampled 0-simplex of tau if needed\n",
    "        x_indices = list(np.where(tau == 1)[0])\n",
    "        r_x = np.random.choice(x_indices)\n",
    "\n",
    "        # Set column in Hz_t corresponding to x to 0\n",
    "        self.Hz_t[:, r_x] = 0\n",
    "        return (0, r_x)\n",
    "\n",
    "def sample_filtration(Hx, Hz):\n",
    "    filtration = []\n",
    "    SQ = SampleQueue(deepcopy(Hx), deepcopy(Hz.T))\n",
    "    while not SQ.is_empty():\n",
    "        sample = SQ.sample()\n",
    "        filtration.append(sample)\n",
    "    return filtration\n",
    "\n",
    "def build_simplex_tree_filtration(Hx, Hz, filtration):\n",
    "    Hz_t = Hz.T\n",
    "    vertex_stream = []\n",
    "    for simplex in filtration:\n",
    "        degree, id = simplex\n",
    "        if degree == 0:\n",
    "            vertex_stream.append([id])\n",
    "        elif degree == 1:\n",
    "            vertex_stream.append(list(np.where(Hz_t[id] == 1)[0]))\n",
    "        elif degree == 2:\n",
    "            # First triangulate cell\n",
    "            # Compute all vertices of cell\n",
    "            all_vertices = set()\n",
    "            for i, edge in enumerate(Hx[id]):\n",
    "                if edge == 1:\n",
    "                    vertices = list(np.where(Hz_t[i] == 1)[0])\n",
    "                    for vertex in vertices:\n",
    "                        all_vertices.add(vertex)\n",
    "            all_vertices = list(all_vertices)\n",
    "            # Flip a random vertex to be 0 such that we have a set of size 3\n",
    "            # Maybe do n choose 3?\n",
    "            subset = random.sample(all_vertices, 3)\n",
    "            vertex_stream.append(subset)\n",
    "    return filtration"
   ]
  },
  {
   "cell_type": "code",
   "execution_count": null,
   "metadata": {},
   "outputs": [],
   "source": [
    "def TS3(Hx, Hz):\n",
    "\n",
    "    # Idea: perform a topological sort of the 2-simplex\n",
    "    # We represent the 2-simplex as a directed graph, whereby vertices have indegree 0\n",
    "    # edges have indegree 2, and faces have indegree 4\n",
    "    # The topological sort defines a boundary for which we can perform a filtration\n",
    "\n",
    "    # Graph building\n",
    "    graph = defaultdict(list)\n",
    "    indegrees = defaultdict(int)\n",
    "    # Iterate over all vertex to edge mappings\n",
    "    for i in range(len(Hz)):\n",
    "        # Degree of simplex (0 for vertex, 1 for edge, 2 for face), index of topological feature\n",
    "        for j in range(len(Hz[0])):\n",
    "            if Hz[i][j] == 1:\n",
    "                # The current vertex i is a boundary of edge j\n",
    "                graph[(0, i)].append((1, j))\n",
    "                indegrees[(1, j)] += 1\n",
    "\n",
    "    # Iterate over all face to edge mappings\n",
    "    for i in range(len(Hx)):\n",
    "        for j in range(len(Hx[0])):\n",
    "            # The current face i has boundary edge j\n",
    "            if Hx[i][j] == 1:\n",
    "                graph[(1, j)].append((2, i))\n",
    "                indegrees[(2, i)] += 1\n",
    "\n",
    "    # Collect all degree 0 nods in topological dependency graph (aka all vertices)\n",
    "    queue = [(0, i) for i in range(len(Hz))]\n",
    "    # Permute the queue into a random order\n",
    "    queue = random.sample(queue, len(queue))\n",
    "\n",
    "    filtration = []\n",
    "\n",
    "    # Perform a topological sort\n",
    "    while len(queue) > 0:\n",
    "        curr = queue.pop(0)\n",
    "        filtration.append(curr)\n",
    "        for next in graph[curr]:\n",
    "            indegrees[next] -= 1\n",
    "            if indegrees[next] == 0:\n",
    "                queue.append(next)\n",
    "\n",
    "    return filtration"
   ]
  },
  {
   "cell_type": "code",
   "execution_count": null,
   "metadata": {},
   "outputs": [],
   "source": [
    "Hx = np.array([[1, 1, 0, 0, 1, 0, 1, 0],\n",
    "               [1, 1, 0, 0, 0, 1, 0, 1],\n",
    "               [0, 0, 1, 1, 1, 0, 1, 0],\n",
    "               [0, 0, 1, 1, 0, 1, 0, 1]])\n",
    "Hz = np.array([[1, 0, 1, 0, 1, 1, 0, 0],\n",
    "               [0, 1, 0, 1, 1, 1, 0, 0],\n",
    "               [1, 0, 1, 0, 0, 0, 1, 1],\n",
    "               [0, 1, 0, 1, 0, 0, 1, 1]])\n",
    "\n",
    "\n",
    "print(TS3(Hx, Hz))\n",
    "filtration = sample_filtration(Hx, Hz)\n",
    "st_filtration = build_simplex_tree_filtration(Hx, Hz, filtration)\n",
    "\n",
    "st = gudhi.SimplexTree()\n",
    "t = 0.0\n",
    "for simplex in st_filtration:\n",
    "    st.insert(simplex, t)\n",
    "    t += 1.0\n",
    "\n",
    "print(st.dimension())\n",
    "print(st.num_simplices())\n",
    "print(st.num_vertices())\n",
    "\n",
    "# Compute persistence\n",
    "diag = st.persistence()\n",
    "\n",
    "# Plotting the persistence diagram\n",
    "gudhi.plot_persistence_diagram(diag)\n",
    "st.betti_numbers()"
   ]
  }
 ],
 "metadata": {
  "kernelspec": {
   "display_name": "qec",
   "language": "python",
   "name": "python3"
  },
  "language_info": {
   "codemirror_mode": {
    "name": "ipython",
    "version": 3
   },
   "file_extension": ".py",
   "mimetype": "text/x-python",
   "name": "python",
   "nbconvert_exporter": "python",
   "pygments_lexer": "ipython3",
   "version": "3.10.12"
  }
 },
 "nbformat": 4,
 "nbformat_minor": 2
}
