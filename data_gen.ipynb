{
 "cells": [
  {
   "cell_type": "markdown",
   "metadata": {},
   "source": [
    "# Learning the shape of manifold from the code generated from celluation from that manifold"
   ]
  },
  {
   "cell_type": "markdown",
   "metadata": {},
   "source": [
    "## Data generation"
   ]
  },
  {
   "cell_type": "markdown",
   "metadata": {},
   "source": [
    "### 1. How to generate the stabilizer generators of a code and store them"
   ]
  },
  {
   "cell_type": "markdown",
   "metadata": {},
   "source": [
    "The stabilizer generators themselves are stored in two matrices $H_z$ and $H_x$, which operate over the field of $\\mathbb{F}_2$ "
   ]
  },
  {
   "cell_type": "markdown",
   "metadata": {},
   "source": [
    "So, the first step is to code up a class which constructs these matrices for the toric code"
   ]
  },
  {
   "cell_type": "code",
   "execution_count": 1,
   "metadata": {},
   "outputs": [
    {
     "name": "stdout",
     "output_type": "stream",
     "text": [
      "Value 1\n",
      "Method 1 called with attributes: Value 1 and Value 2\n",
      "New Value\n"
     ]
    }
   ],
   "source": [
    "# Define a class\n",
    "class MyClass:\n",
    "    # Constructor (initialize the object)\n",
    "    def __init__(self, attribute1, attribute2):\n",
    "        self.attribute1 = attribute1\n",
    "        self.attribute2 = attribute2\n",
    "\n",
    "    # Define methods (functions) for the class\n",
    "    def method1(self):\n",
    "        return f\"Method 1 called with attributes: {self.attribute1} and {self.attribute2}\"\n",
    "\n",
    "    def method2(self, new_value):\n",
    "        self.attribute1 = new_value\n",
    "\n",
    "# Create an instance of the class\n",
    "obj = MyClass(\"Value 1\", \"Value 2\")\n",
    "\n",
    "# Access attributes and call methods\n",
    "print(obj.attribute1)  # Access an attribute\n",
    "print(obj.method1())   # Call a method\n",
    "\n",
    "# Modify attributes\n",
    "obj.method2(\"New Value\")\n",
    "print(obj.attribute1)  # Attribute updated\n",
    "\n",
    "# Create another instance of the class\n",
    "obj2 = MyClass(\"Another Value\", \"Another Value 2\")"
   ]
  },
  {
   "cell_type": "code",
   "execution_count": null,
   "metadata": {},
   "outputs": [],
   "source": []
  }
 ],
 "metadata": {
  "kernelspec": {
   "display_name": "qec",
   "language": "python",
   "name": "python3"
  },
  "language_info": {
   "codemirror_mode": {
    "name": "ipython",
    "version": 3
   },
   "file_extension": ".py",
   "mimetype": "text/x-python",
   "name": "python",
   "nbconvert_exporter": "python",
   "pygments_lexer": "ipython3",
   "version": "3.10.12"
  }
 },
 "nbformat": 4,
 "nbformat_minor": 2
}
