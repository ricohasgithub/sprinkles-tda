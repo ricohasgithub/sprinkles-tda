{
 "cells": [
  {
   "cell_type": "code",
   "execution_count": 1,
   "metadata": {},
   "outputs": [],
   "source": [
    "import gudhi as gd\n",
    "\n",
    "def build_simplex_tree_from_boundary_matrices(boundary_matrices):\n",
    "    st = gd.SimplexTree()\n",
    "\n",
    "    # Add vertices\n",
    "    for vertex in range(len(boundary_matrices[0][0])):\n",
    "        st.insert([vertex])\n",
    "\n",
    "    # Add higher dimensional simplices\n",
    "    for dim, boundary_matrix in enumerate(boundary_matrices):\n",
    "        for simplex_index, row in enumerate(boundary_matrix):\n",
    "            # Create a simplex as a list of its vertices\n",
    "            simplex = [vertex for vertex, entry in enumerate(row) if entry != 0]\n",
    "            simplex.append(simplex_index + len(row))  # Add the current simplex vertex\n",
    "            st.insert(simplex, filtration=dim)\n",
    "    print(simplex)\n",
    "    return st"
   ]
  }
 ],
 "metadata": {
  "kernelspec": {
   "display_name": "qec",
   "language": "python",
   "name": "python3"
  },
  "language_info": {
   "codemirror_mode": {
    "name": "ipython",
    "version": 3
   },
   "file_extension": ".py",
   "mimetype": "text/x-python",
   "name": "python",
   "nbconvert_exporter": "python",
   "pygments_lexer": "ipython3",
   "version": "3.10.12"
  }
 },
 "nbformat": 4,
 "nbformat_minor": 2
}
